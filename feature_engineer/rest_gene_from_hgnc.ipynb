{
 "cells": [
  {
   "cell_type": "code",
   "execution_count": 1,
   "metadata": {
    "collapsed": false
   },
   "outputs": [
    {
     "data": {
      "text/plain": [
       "14"
      ]
     },
     "execution_count": 1,
     "metadata": {},
     "output_type": "execute_result"
    }
   ],
   "source": [
    "import sys\n",
    "sys.path.append('../misc')\n",
    "from helpers import *\n",
    "import pandas as pd\n",
    "df = get_full_table('../data/training_variants','../data/training_text')\n",
    "df2 = get_full_table('../data/test_variants','../data/test_text')\n",
    "df3 = get_full_table('../data/stage2_test_variants.csv', '../data/stage2_test_text.csv')\n",
    "new_df1 = pd.concat([df, df2], axis=0)\n",
    "new_df2 = pd.concat([df, df2, df3], axis=0)\n",
    "\n",
    "gene1 = list(new_df1['Gene'].unique())\n",
    "gene2 = list(new_df2['Gene'].unique())\n",
    "gene = [i for i in gene2 if i not in gene1]\n",
    "len(gene)"
   ]
  },
  {
   "cell_type": "code",
   "execution_count": 2,
   "metadata": {
    "collapsed": false
   },
   "outputs": [],
   "source": [
    "def get_from_path(path):\n",
    "    \"\"\"given a request path and return the \n",
    "    response and content\"\"\"\n",
    "    import httplib2 as http\n",
    "    import json\n",
    "    try:\n",
    "        from urlparse import urlparse\n",
    "    except ImportError:\n",
    "        from urllib.parse import urlparse\n",
    "\n",
    "    headers = {\n",
    "     'Accept': 'application/json',\n",
    "    }\n",
    "\n",
    "    uri = 'http://rest.genenames.org'\n",
    "\n",
    "    target = urlparse(uri+path)\n",
    "    method = 'GET'\n",
    "    body = ''\n",
    "\n",
    "    h = http.Http()\n",
    "\n",
    "    response, content = h.request(\n",
    "     target.geturl(),\n",
    "     method,\n",
    "     body,\n",
    "     headers)\n",
    "    return response, content\n",
    "  \n",
    "def get_gene_json(gene):\n",
    "    \"\"\"given gene, return a dict with info about it\"\"\"\n",
    "    import time\n",
    "    \n",
    "    path = '/fetch/symbol/'+gene\n",
    "    response, content = get_from_path(path)    \n",
    "    if response['status'] == '200':\n",
    "        # assume that content is a json reply\n",
    "        # parse content with the json module \n",
    "        data = json.loads(content)\n",
    "        #print(type(data))\n",
    "        #print('Symbol:' + data['response']['docs'][0]['symbol'])\n",
    "        #print('Symbol:' + data['response']['docs'][0]['name'])\n",
    "        if data['response']['numFound'] != 0:\n",
    "            print(data['response']['numFound'])\n",
    "            return data\n",
    "        else:\n",
    "            path = '/fetch/prev_symbol/'+gene\n",
    "            time.sleep(3)\n",
    "            response, content = get_from_path(path)\n",
    "            if response['status'] == '200':\n",
    "                data = json.loads(content)\n",
    "                if data['response']['numFound'] != 0:\n",
    "                    return data\n",
    "            else:\n",
    "                print('Error detected: ' + response['status'])\n",
    "                \n",
    "    else:\n",
    "        print('Error detected: ' + response['status'])\n",
    "    "
   ]
  },
  {
   "cell_type": "code",
   "execution_count": 3,
   "metadata": {
    "collapsed": false
   },
   "outputs": [
    {
     "name": "stdout",
     "output_type": "stream",
     "text": [
      "1\n",
      "1\n",
      "1\n",
      "1\n",
      "1\n",
      "1\n",
      "1\n",
      "1\n",
      "1\n",
      "1\n",
      "1\n",
      "1\n",
      "1\n",
      "1\n"
     ]
    },
    {
     "ename": "FileNotFoundError",
     "evalue": "[Errno 2] No such file or directory: './input/result.json'",
     "output_type": "error",
     "traceback": [
      "\u001b[0;31m---------------------------------------------------------------------------\u001b[0m",
      "\u001b[0;31mFileNotFoundError\u001b[0m                         Traceback (most recent call last)",
      "\u001b[0;32m<ipython-input-3-7bbe5ce2d12b>\u001b[0m in \u001b[0;36m<module>\u001b[0;34m()\u001b[0m\n\u001b[1;32m     15\u001b[0m \u001b[0;31m#            json.dump(json_dict, f)\u001b[0m\u001b[0;34m\u001b[0m\u001b[0;34m\u001b[0m\u001b[0m\n\u001b[1;32m     16\u001b[0m \u001b[0;34m\u001b[0m\u001b[0m\n\u001b[0;32m---> 17\u001b[0;31m \u001b[0;32mwith\u001b[0m \u001b[0mopen\u001b[0m\u001b[0;34m(\u001b[0m\u001b[0;34m'./input/result.json'\u001b[0m\u001b[0;34m,\u001b[0m \u001b[0;34m'w'\u001b[0m\u001b[0;34m)\u001b[0m \u001b[0;32mas\u001b[0m \u001b[0mf\u001b[0m\u001b[0;34m:\u001b[0m\u001b[0;34m\u001b[0m\u001b[0m\n\u001b[0m\u001b[1;32m     18\u001b[0m             \u001b[0mjson\u001b[0m\u001b[0;34m.\u001b[0m\u001b[0mdump\u001b[0m\u001b[0;34m(\u001b[0m\u001b[0mjson_dict\u001b[0m\u001b[0;34m,\u001b[0m \u001b[0mf\u001b[0m\u001b[0;34m)\u001b[0m\u001b[0;34m\u001b[0m\u001b[0m\n",
      "\u001b[0;31mFileNotFoundError\u001b[0m: [Errno 2] No such file or directory: './input/result.json'"
     ]
    }
   ],
   "source": [
    "import time\n",
    "import json\n",
    "fail_list=[]\n",
    "json_dict={}\n",
    "for i, g in enumerate(gene):\n",
    "    data = get_gene_json(g)\n",
    "    if data == None:\n",
    "        fail_list.append(g)\n",
    "    else:\n",
    "        json_dict[g] = data\n",
    "    time.sleep(3)\n",
    "    \n",
    "#    if i%100 == 0:\n",
    "#        with open('result'+str(i)+'.json', 'w') as f:\n",
    "#            json.dump(json_dict, f)\n",
    "            "
   ]
  },
  {
   "cell_type": "code",
   "execution_count": 4,
   "metadata": {
    "collapsed": true
   },
   "outputs": [],
   "source": [
    "with open('../feature_engineer/result.json', 'w') as f:\n",
    "            json.dump(json_dict, f)  "
   ]
  },
  {
   "cell_type": "code",
   "execution_count": 5,
   "metadata": {
    "collapsed": false
   },
   "outputs": [],
   "source": [
    "with open('../feature_engineer/result/gene_query_result_old.json','r') as f:\n",
    "    d = json.load(f)\n",
    "with open('../feature_engineer/result.json','r') as f:\n",
    "    d2 = json.load(f)"
   ]
  },
  {
   "cell_type": "code",
   "execution_count": 6,
   "metadata": {
    "collapsed": false
   },
   "outputs": [],
   "source": [
    "new_d = dict(d)\n",
    "new_d.update(d2)"
   ]
  },
  {
   "cell_type": "code",
   "execution_count": 7,
   "metadata": {
    "collapsed": false
   },
   "outputs": [],
   "source": [
    "with open('../feature_engineer/gene_query_result.json', 'w') as f:\n",
    "    json.dump(new_d, f)"
   ]
  },
  {
   "cell_type": "code",
   "execution_count": null,
   "metadata": {
    "collapsed": true
   },
   "outputs": [],
   "source": []
  }
 ],
 "metadata": {
  "anaconda-cloud": {},
  "kernelspec": {
   "display_name": "Python [conda env:cancer]",
   "language": "python",
   "name": "conda-env-cancer-py"
  },
  "language_info": {
   "codemirror_mode": {
    "name": "ipython",
    "version": 3
   },
   "file_extension": ".py",
   "mimetype": "text/x-python",
   "name": "python",
   "nbconvert_exporter": "python",
   "pygments_lexer": "ipython3",
   "version": "3.6.1"
  }
 },
 "nbformat": 4,
 "nbformat_minor": 1
}
