{
 "cells": [
  {
   "cell_type": "code",
   "execution_count": 2,
   "metadata": {
    "collapsed": false
   },
   "outputs": [],
   "source": [
    "import sys, os\n",
    "sys.path.append('../misc')\n",
    "from helpers import *\n",
    "import pandas as pd"
   ]
  },
  {
   "cell_type": "code",
   "execution_count": 4,
   "metadata": {
    "collapsed": false
   },
   "outputs": [],
   "source": [
    "#df = get_full_table('./input/training_variants','./input/training_text')\n",
    "df = pd.read_csv('../data/test_filtered')"
   ]
  },
  {
   "cell_type": "code",
   "execution_count": 5,
   "metadata": {
    "collapsed": false
   },
   "outputs": [],
   "source": [
    "def var_in_text(text):\n",
    "    import re\n",
    "    text = text.lower()\n",
    "    var_list = []\n",
    "    for var in re.finditer('[a-z]+[0-9]+[a-z]*', text):\n",
    "        var_list.append(var.group(0))\n",
    "    return set(var_list)\n",
    "\n",
    "def get_gene_list(gene):\n",
    "    import json\n",
    "    with open('../feature_engineer/gene_query_result.json','r') as f:\n",
    "        data = json.load(f)\n",
    "    data2 = data[gene]['response']['docs'][0]\n",
    "    l = []\n",
    "    if 'symbol' in data2:\n",
    "        l.append(data2['symbol'])\n",
    "    if 'prev_symbol' in data2:\n",
    "        l = l+data2['prev_symbol']\n",
    "    if 'alias_symbol' in data2:\n",
    "        l = l+data2['alias_symbol']\n",
    "    return [i.lower() for i in l]\n",
    "\n",
    "def get_var_list(var):\n",
    "    amino_dict = {'a': 'ala', 'c': 'cys', 'd': 'asp', 'e': 'glu', 'f': 'phe', 'g': 'gly', 'h': 'his', 'i': 'ile',\\\n",
    "     'k': 'lys', 'l': 'leu', 'm': 'met', 'n': 'asn', 'p': 'pro', 'q': 'gln', 'r': 'arg', 's': 'ser', \\\n",
    "     't': 'thr', 'v': 'val', 'w': 'trp', 'y': 'tyr', 'b':'asx', 'z': 'glx'}\n",
    "    import re\n",
    "    var = var.lower()\n",
    "    \n",
    "    m = re.match('([a-z])([0-9]+)([a-z])', var)\n",
    "    if m:\n",
    "        return [var, m.group(1)+str(int(m.group(2))+3)+m.group(3),\\\n",
    "                    m.group(1)+str(int(m.group(2))-3)+m.group(3),\\\n",
    "                amino_dict[m.group(1)]+m.group(2)+amino_dict[m.group(3)],\\\n",
    "                amino_dict[m.group(1)]+str(int(m.group(2))+3)+amino_dict[m.group(3)],\\\n",
    "               amino_dict[m.group(1)]+str(int(m.group(2))-3)+amino_dict[m.group(3)]],\\\n",
    "                [m.group(1)+'[\\d]+'+m.group(3), \\\n",
    "                 amino_dict[m.group(1)]+'[\\d]+'+amino_dict[m.group(3)],\\\n",
    "                 m.group(1)+m.group(2),\\\n",
    "                 amino_dict[m.group(1)]+m.group(2)]\n",
    "    \n",
    "     \n",
    "    m = re.match('([a-z])([0-9]+)([\\*])', var)\n",
    "    if m:\n",
    "        return [var, m.group(1)+str(int(m.group(2))+3)+m.group(3),\\\n",
    "                    m.group(1)+str(int(m.group(2))-3)+m.group(3),\\\n",
    "                amino_dict[m.group(1)]+m.group(2)+m.group(3),\\\n",
    "                amino_dict[m.group(1)]+str(int(m.group(2))+3)+m.group(3),\\\n",
    "               amino_dict[m.group(1)]+str(int(m.group(2))-3)+m.group(3)],\\\n",
    "                [m.group(1)+'[\\d]+'+'\\*', \\\n",
    "                 amino_dict[m.group(1)]+'[\\d]+'+'\\*',\\\n",
    "                 m.group(1)+m.group(2),\\\n",
    "                 amino_dict[m.group(1)]+m.group(2)]\n",
    "        \n",
    "    if re.search('trunc', var):\n",
    "        return [var, 'truncat'],[]\n",
    "        \n",
    "    elif re.search('del', var):\n",
    "        return [var, 'delet'],[]\n",
    "        \n",
    "    elif re.search('amp', var):\n",
    "        return [var, 'amplific'],[]\n",
    "        \n",
    "    elif re.search('dup', var):\n",
    "        return [var, 'duplicat'],[]\n",
    "        \n",
    "    elif re.search('ins', var):\n",
    "        return [var, 'insert'],[]\n",
    "     \n",
    "    elif re.search('fus', var):\n",
    "        return [var, 'fusion'],[]\n",
    "    \n",
    "    elif re.search('splice', var):\n",
    "        return [var, 'splice'],[]\n",
    "        \n",
    "    elif re.search('over', var):\n",
    "        return [var, 'overexpress'],[]\n",
    "    \n",
    "    elif re.search('exon', var):\n",
    "        return [var, 'exon'],[]\n",
    "        \n",
    "    elif re.search('promo', var):\n",
    "        return [var, 'promo'],[]\n",
    "    \n",
    "    elif re.search('egfr', var):\n",
    "        return [var, 'egfr'],[]\n",
    "    \n",
    "    else:\n",
    "        return [var],[]\n",
    "    "
   ]
  },
  {
   "cell_type": "code",
   "execution_count": 6,
   "metadata": {
    "collapsed": false
   },
   "outputs": [],
   "source": [
    "def get_partial_text(gene, var, text):\n",
    "    import re\n",
    "    l = get_var_list(var)[0]\n",
    "    l2 = get_var_list(var)[1]\n",
    "    l3 = get_gene_list(gene)\n",
    "    text = text.lower()\n",
    "    start = []\n",
    "    #print(l, l2)\n",
    "    for i in l:\n",
    "        p = re.compile(i)\n",
    "        for m in p.finditer(text):\n",
    "            start.append(m.start())\n",
    "    if len(start)==0 and len(l2)>0:\n",
    "        for i in l2:\n",
    "            p = re.compile(i)\n",
    "            for m in p.finditer(text):\n",
    "                start.append(m.start())\n",
    "    if len(start)==0:\n",
    "        for i in l3:\n",
    "            p = re.compile(i)\n",
    "            for m in p.finditer(text):\n",
    "                start.append(m.start())\n",
    "                \n",
    "    start.sort()\n",
    "    return start\n",
    "        "
   ]
  },
  {
   "cell_type": "code",
   "execution_count": 7,
   "metadata": {
    "collapsed": false
   },
   "outputs": [
    {
     "name": "stderr",
     "output_type": "stream",
     "text": [
      "//anaconda/envs/cancer/lib/python3.6/site-packages/pandas/core/indexing.py:179: SettingWithCopyWarning: \n",
      "A value is trying to be set on a copy of a slice from a DataFrame\n",
      "\n",
      "See the caveats in the documentation: http://pandas.pydata.org/pandas-docs/stable/indexing.html#indexing-view-versus-copy\n",
      "  self._setitem_with_indexer(indexer, value)\n"
     ]
    },
    {
     "name": "stdout",
     "output_type": "stream",
     "text": [
      "0\n",
      "this part goes wrong: 47.35051: s = 1\n",
      "this part goes wrong: 54.34587: s = 1\n",
      "this part goes wrong: 85.35797: s = 1\n",
      "100\n",
      "200\n",
      "this part goes wrong: 241.35015: s = 1\n",
      "this part goes wrong: 246.34217: s = 1\n",
      "300\n"
     ]
    }
   ],
   "source": [
    "import pandas as pd\n",
    "passage = 200\n",
    "df['SeparateText'] = pd.Series(['']*df.shape[0])\n",
    "for i in range(df.shape[0]):\n",
    "    s = get_partial_text(df['Gene'].iloc[i], df['Variation'].iloc[i], df['Text'].iloc[i])\n",
    "    text = df['Text'].iloc[i]\n",
    "    if len(s)==0:\n",
    "        df['SeparateText'].iloc[i] += text\n",
    "    else:\n",
    "        text_length = len(text)\n",
    "        for start in s:\n",
    "            try:\n",
    "                df['SeparateText'].iloc[i] += \\\n",
    "                ' ' + text[max(0,start-passage):min(start+passage, text_length)].split(' ', 1)[1].rsplit(' ', 1)[0] \n",
    "            except:\n",
    "                print('this part goes wrong: {}.{}: s = {}'.format(i, start, len(s)))\n",
    "    if len(df['SeparateText'].iloc[i]) == 0:\n",
    "        df['SeparateText'].iloc[i] += text\n",
    "        \n",
    "    if i%100 == 0:\n",
    "        print(i)"
   ]
  },
  {
   "cell_type": "code",
   "execution_count": 94,
   "metadata": {
    "collapsed": false
   },
   "outputs": [],
   "source": [
    "#for i in failed:\n",
    "#    passage = 200\n",
    "#    print(get_gene_list(df['Gene'].iloc[i]))\n",
    "#    print(get_var_list(df['Variation'].iloc[i]))\n",
    "#    s = get_partial_text(df['Gene'].iloc[i], df['Variation'].iloc[i], df['Text'].iloc[i])\n",
    "#    text = df['Text'].iloc[i]\n",
    "#    text_length = len(text)\n",
    "#    print(s)\n",
    "#    print('------{}-------'.format(i))\n",
    "#    for start in s:\n",
    "#        print(start)\n",
    "#        print(text[max(0,start-passage):min(start+passage, text_length)])\n",
    "#        print('--------')"
   ]
  },
  {
   "cell_type": "code",
   "execution_count": 95,
   "metadata": {
    "collapsed": false,
    "scrolled": false
   },
   "outputs": [],
   "source": [
    "#i = 23\n",
    "#print(get_gene_list(df['Gene'].iloc[i]))\n",
    "#print(get_var_list(df['Variation'].iloc[i]))\n",
    "#s = get_partial_text(df['Gene'].iloc[i], df['Variation'].iloc[i], df['Text'].iloc[i])\n",
    "#text = df['Text'].iloc[i]\n",
    "#for start in s:\n",
    "#    print(start)\n",
    "#    text_length = len(text)\n",
    "#    print(text[max(0,start-passage):min(start+passage, text_length)].split(' ', 1)[1].rsplit(' ', 1)[0])\n",
    "#    print('--------')"
   ]
  },
  {
   "cell_type": "code",
   "execution_count": 96,
   "metadata": {
    "collapsed": false
   },
   "outputs": [],
   "source": [
    "#i = 2774\n",
    "#print(get_gene_list(df['Gene'].iloc[i]))\n",
    "#print(get_var_list(df['Variation'].iloc[i]))\n",
    "#print(var_in_text(df['Text'].iloc[i]))\n",
    "#text = df['Text'].iloc[i]\n",
    "#print(text[max(0,start-passage):min(start+passage, text_length)].split(' ', 1))"
   ]
  },
  {
   "cell_type": "code",
   "execution_count": 97,
   "metadata": {
    "collapsed": false
   },
   "outputs": [],
   "source": [
    "#for i in df['Text'].unique():\n",
    "#    c = pd.Series(list(df[df['Text']==i]['ID'])).unique()\n",
    "#    if len(c)>1:\n",
    "#        print(df[df['Text']==i])"
   ]
  },
  {
   "cell_type": "code",
   "execution_count": 8,
   "metadata": {
    "collapsed": false
   },
   "outputs": [],
   "source": [
    "df.to_csv('../data/test_filtered_SeparateText.csv',\\\n",
    "                  index=False)"
   ]
  },
  {
   "cell_type": "code",
   "execution_count": 11,
   "metadata": {
    "collapsed": false
   },
   "outputs": [
    {
     "data": {
      "text/plain": [
       "ID                                                           3421\n",
       "Gene                                                         ELF3\n",
       "Variation                                                   A312P\n",
       "Class                                                           1\n",
       "Text            The ETS transcription factor family is compris...\n",
       "SeparateText     with 15 μg of the mTβR-II -108/+56(B/A) P/R c...\n",
       "Name: 100, dtype: object"
      ]
     },
     "execution_count": 11,
     "metadata": {},
     "output_type": "execute_result"
    }
   ],
   "source": [
    "df.iloc[100]"
   ]
  },
  {
   "cell_type": "code",
   "execution_count": 12,
   "metadata": {
    "collapsed": false
   },
   "outputs": [
    {
     "name": "stdout",
     "output_type": "stream",
     "text": [
      " with 15 μg of the mTβR-II -108/+56(B/A) P/R construct. Where indicated, the cells were also transfected with 0.5 or 1 μg of an N-terminal GFP fusion expression vector for Elf3, Elf3I279P, Elf3A312P, Elf3K320E, or Elf3R331P. Activities were assayed and normalized as described under “Experimental Procedures.” The promoter activity of each construct is calculated relative to the CAT activity activity of the mTβR-II -108/+56(B/A) P/R construct increased 4–6-fold over the basal activity of the P/R gene construct (Fig. 1C). As predicted, all three helix mutations (GFP-Elf3I279P, GFP-Elf3A312P, and GFP-Elf3R331P) resulted in a complete loss of Elf3 stimulation of mTβR-II -108/+56(B/A). In contrast, other non-helix breaking mutations within the turn between helix 2 and 3 (K320E) and independent of the possible influence of an AID. EMSA using equal amounts of Elf3ΔN270 with or without the ETS domain mutations detected a loss of binding with mutants Elf3ΔN270I279P, Elf3ΔN270A312P, and Elf3ΔN270R331P to the TβR-II probe but not with the Elf3ΔN270K320E mutant (Fig. 1D). We validated the results for the I279P mutant by ChIP. Specifically, we demonstrated that the mutant\n"
     ]
    }
   ],
   "source": [
    "print(df.iloc[100]['SeparateText'])"
   ]
  },
  {
   "cell_type": "code",
   "execution_count": null,
   "metadata": {
    "collapsed": true
   },
   "outputs": [],
   "source": []
  }
 ],
 "metadata": {
  "anaconda-cloud": {},
  "kernelspec": {
   "display_name": "Python [conda env:cancer]",
   "language": "python",
   "name": "conda-env-cancer-py"
  },
  "language_info": {
   "codemirror_mode": {
    "name": "ipython",
    "version": 3
   },
   "file_extension": ".py",
   "mimetype": "text/x-python",
   "name": "python",
   "nbconvert_exporter": "python",
   "pygments_lexer": "ipython3",
   "version": "3.6.1"
  }
 },
 "nbformat": 4,
 "nbformat_minor": 1
}
