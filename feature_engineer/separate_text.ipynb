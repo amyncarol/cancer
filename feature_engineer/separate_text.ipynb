{
 "cells": [
  {
   "cell_type": "code",
   "execution_count": 88,
   "metadata": {
    "collapsed": false
   },
   "outputs": [],
   "source": [
    "import sys, os\n",
    "sys.path.append('../.')\n",
    "from helpers import *"
   ]
  },
  {
   "cell_type": "code",
   "execution_count": 89,
   "metadata": {
    "collapsed": false
   },
   "outputs": [],
   "source": [
    "df = get_full_table('./input/training_variants','./input/training_text')"
   ]
  },
  {
   "cell_type": "code",
   "execution_count": 90,
   "metadata": {
    "collapsed": false
   },
   "outputs": [],
   "source": [
    "def var_in_text(text):\n",
    "    import re\n",
    "    text = text.lower()\n",
    "    var_list = []\n",
    "    for var in re.finditer('[a-z]+[0-9]+[a-z]*', text):\n",
    "        var_list.append(var.group(0))\n",
    "    return set(var_list)\n",
    "\n",
    "def get_gene_list(gene):\n",
    "    import json\n",
    "    with open('./input/gene_query_result.json','r') as f:\n",
    "        data = json.load(f)\n",
    "    data2 = data[gene]['response']['docs'][0]\n",
    "    l = []\n",
    "    if 'symbol' in data2:\n",
    "        l.append(data2['symbol'])\n",
    "    if 'prev_symbol' in data2:\n",
    "        l = l+data2['prev_symbol']\n",
    "    if 'alias_symbol' in data2:\n",
    "        l = l+data2['alias_symbol']\n",
    "    return [i.lower() for i in l]\n",
    "\n",
    "def get_var_list(var):\n",
    "    amino_dict = {'a': 'ala', 'c': 'cys', 'd': 'asp', 'e': 'glu', 'f': 'phe', 'g': 'gly', 'h': 'his', 'i': 'ile',\\\n",
    "     'k': 'lys', 'l': 'leu', 'm': 'met', 'n': 'asn', 'p': 'pro', 'q': 'gln', 'r': 'arg', 's': 'ser', \\\n",
    "     't': 'thr', 'v': 'val', 'w': 'trp', 'y': 'tyr', 'b':'asx', 'z': 'glx'}\n",
    "    import re\n",
    "    var = var.lower()\n",
    "    \n",
    "    m = re.match('([a-z])([0-9]+)([a-z])', var)\n",
    "    if m:\n",
    "        return [var, m.group(1)+str(int(m.group(2))+3)+m.group(3),\\\n",
    "                    m.group(1)+str(int(m.group(2))-3)+m.group(3),\\\n",
    "                amino_dict[m.group(1)]+m.group(2)+amino_dict[m.group(3)],\\\n",
    "                amino_dict[m.group(1)]+str(int(m.group(2))+3)+amino_dict[m.group(3)],\\\n",
    "               amino_dict[m.group(1)]+str(int(m.group(2))-3)+amino_dict[m.group(3)]],\\\n",
    "                [m.group(1)+'[\\d]+'+m.group(3), \\\n",
    "                 amino_dict[m.group(1)]+'[\\d]+'+amino_dict[m.group(3)],\\\n",
    "                 m.group(1)+m.group(2),\\\n",
    "                 amino_dict[m.group(1)]+m.group(2)]\n",
    "    \n",
    "     \n",
    "    m = re.match('([a-z])([0-9]+)([\\*])', var)\n",
    "    if m:\n",
    "        return [var, m.group(1)+str(int(m.group(2))+3)+m.group(3),\\\n",
    "                    m.group(1)+str(int(m.group(2))-3)+m.group(3),\\\n",
    "                amino_dict[m.group(1)]+m.group(2)+m.group(3),\\\n",
    "                amino_dict[m.group(1)]+str(int(m.group(2))+3)+m.group(3),\\\n",
    "               amino_dict[m.group(1)]+str(int(m.group(2))-3)+m.group(3)],\\\n",
    "                [m.group(1)+'[\\d]+'+'\\*', \\\n",
    "                 amino_dict[m.group(1)]+'[\\d]+'+'\\*',\\\n",
    "                 m.group(1)+m.group(2),\\\n",
    "                 amino_dict[m.group(1)]+m.group(2)]\n",
    "        \n",
    "    if re.search('trunc', var):\n",
    "        return [var, 'truncat'],[]\n",
    "        \n",
    "    elif re.search('del', var):\n",
    "        return [var, 'delet'],[]\n",
    "        \n",
    "    elif re.search('amp', var):\n",
    "        return [var, 'amplific'],[]\n",
    "        \n",
    "    elif re.search('dup', var):\n",
    "        return [var, 'duplicat'],[]\n",
    "        \n",
    "    elif re.search('ins', var):\n",
    "        return [var, 'insert'],[]\n",
    "     \n",
    "    elif re.search('fus', var):\n",
    "        return [var, 'fusion'],[]\n",
    "    \n",
    "    elif re.search('splice', var):\n",
    "        return [var, 'splice'],[]\n",
    "        \n",
    "    elif re.search('over', var):\n",
    "        return [var, 'overexpress'],[]\n",
    "    \n",
    "    elif re.search('exon', var):\n",
    "        return [var, 'exon'],[]\n",
    "        \n",
    "    elif re.search('promo', var):\n",
    "        return [var, 'promo'],[]\n",
    "    \n",
    "    elif re.search('egfr', var):\n",
    "        return [var, 'egfr'],[]\n",
    "    \n",
    "    else:\n",
    "        return [var],[]\n",
    "    "
   ]
  },
  {
   "cell_type": "code",
   "execution_count": 91,
   "metadata": {
    "collapsed": false
   },
   "outputs": [],
   "source": [
    "def get_partial_text(gene, var, text):\n",
    "    import re\n",
    "    l = get_var_list(var)[0]\n",
    "    l2 = get_var_list(var)[1]\n",
    "    l3 = get_gene_list(gene)\n",
    "    text = text.lower()\n",
    "    start = []\n",
    "    #print(l, l2)\n",
    "    for i in l:\n",
    "        p = re.compile(i)\n",
    "        for m in p.finditer(text):\n",
    "            start.append(m.start())\n",
    "    if len(start)==0 and len(l2)>0:\n",
    "        for i in l2:\n",
    "            p = re.compile(i)\n",
    "            for m in p.finditer(text):\n",
    "                start.append(m.start())\n",
    "    if len(start)==0:\n",
    "        for i in l3:\n",
    "            p = re.compile(i)\n",
    "            for m in p.finditer(text):\n",
    "                start.append(m.start())\n",
    "                \n",
    "    start.sort()\n",
    "    return start\n",
    "        "
   ]
  },
  {
   "cell_type": "code",
   "execution_count": 93,
   "metadata": {
    "collapsed": false
   },
   "outputs": [
    {
     "name": "stdout",
     "output_type": "stream",
     "text": [
      "this part goes wrong: 2774.35767: s = 1\n",
      "this part goes wrong: 2776.35574: s = 1\n",
      "this part goes wrong: 2780.35258: s = 1\n"
     ]
    },
    {
     "name": "stderr",
     "output_type": "stream",
     "text": [
      "//anaconda/envs/cancer/lib/python3.6/site-packages/pandas/core/indexing.py:179: SettingWithCopyWarning: \n",
      "A value is trying to be set on a copy of a slice from a DataFrame\n",
      "\n",
      "See the caveats in the documentation: http://pandas.pydata.org/pandas-docs/stable/indexing.html#indexing-view-versus-copy\n",
      "  self._setitem_with_indexer(indexer, value)\n"
     ]
    },
    {
     "name": "stdout",
     "output_type": "stream",
     "text": [
      "this part goes wrong: 2785.35830: s = 5\n",
      "this part goes wrong: 2786.34622: s = 1\n",
      "this part goes wrong: 2787.36110: s = 1\n",
      "this part goes wrong: 2792.34437: s = 1\n",
      "this part goes wrong: 2794.35672: s = 1\n",
      "this part goes wrong: 2795.36049: s = 1\n",
      "this part goes wrong: 2796.35638: s = 1\n",
      "this part goes wrong: 2806.35925: s = 1\n",
      "this part goes wrong: 2810.35154: s = 1\n",
      "this part goes wrong: 2811.36081: s = 1\n",
      "this part goes wrong: 2812.35605: s = 1\n",
      "this part goes wrong: 2817.35190: s = 1\n",
      "this part goes wrong: 2820.34475: s = 1\n",
      "this part goes wrong: 2825.34657: s = 3\n",
      "this part goes wrong: 2826.34695: s = 1\n",
      "this part goes wrong: 2827.34515: s = 1\n",
      "this part goes wrong: 2828.35395: s = 1\n",
      "this part goes wrong: 2830.34362: s = 1\n",
      "this part goes wrong: 2831.35539: s = 1\n",
      "this part goes wrong: 2834.34182: s = 2\n",
      "this part goes wrong: 2838.34767: s = 1\n",
      "this part goes wrong: 2842.35986: s = 5\n",
      "this part goes wrong: 2847.36017: s = 1\n",
      "this part goes wrong: 2850.34553: s = 1\n",
      "this part goes wrong: 2852.34257: s = 1\n",
      "this part goes wrong: 2853.34882: s = 4\n",
      "this part goes wrong: 2854.35292: s = 1\n",
      "this part goes wrong: 2856.34980: s = 4\n",
      "this part goes wrong: 2858.35862: s = 6\n",
      "this part goes wrong: 2859.35701: s = 1\n",
      "this part goes wrong: 2862.34732: s = 1\n",
      "this part goes wrong: 2863.35086: s = 1\n",
      "this part goes wrong: 2864.35469: s = 1\n",
      "this part goes wrong: 2865.35122: s = 1\n",
      "this part goes wrong: 2867.34847: s = 1\n",
      "this part goes wrong: 2868.34327: s = 2\n",
      "this part goes wrong: 2870.35223: s = 1\n",
      "this part goes wrong: 2878.34917: s = 1\n",
      "this part goes wrong: 2884.34949: s = 1\n",
      "this part goes wrong: 2887.35957: s = 1\n",
      "this part goes wrong: 2889.34400: s = 1\n",
      "this part goes wrong: 2890.35359: s = 1\n",
      "this part goes wrong: 2891.35734: s = 1\n",
      "this part goes wrong: 2893.35894: s = 1\n",
      "this part goes wrong: 2896.35324: s = 1\n",
      "this part goes wrong: 2898.34291: s = 1\n"
     ]
    }
   ],
   "source": [
    "import pandas as pd\n",
    "passage = 200\n",
    "df['SeparateText'] = pd.Series(['']*df.shape[0])\n",
    "for i in range(df.shape[0]):\n",
    "    s = get_partial_text(df['Gene'].iloc[i], df['Variation'].iloc[i], df['Text'].iloc[i])\n",
    "    text = df['Text'].iloc[i]\n",
    "    if len(s)==0:\n",
    "        df['SeparateText'].iloc[i] += text\n",
    "    else:\n",
    "        text_length = len(text)\n",
    "        for start in s:\n",
    "            try:\n",
    "                df['SeparateText'].iloc[i] += \\\n",
    "                ' ' + text[max(0,start-passage):min(start+passage, text_length)].split(' ', 1)[1].rsplit(' ', 1)[0] \n",
    "            except:\n",
    "                print('this part goes wrong: {}.{}: s = {}'.format(i, start, len(s)))\n",
    "    if len(df['SeparateText'].iloc[i]) == 0:\n",
    "        df['SeparateText'].iloc[i] += text\n",
    "        \n",
    "    if i%100 == 0:\n",
    "        print(i)"
   ]
  },
  {
   "cell_type": "code",
   "execution_count": 94,
   "metadata": {
    "collapsed": false
   },
   "outputs": [],
   "source": [
    "#for i in failed:\n",
    "#    passage = 200\n",
    "#    print(get_gene_list(df['Gene'].iloc[i]))\n",
    "#    print(get_var_list(df['Variation'].iloc[i]))\n",
    "#    s = get_partial_text(df['Gene'].iloc[i], df['Variation'].iloc[i], df['Text'].iloc[i])\n",
    "#    text = df['Text'].iloc[i]\n",
    "#    text_length = len(text)\n",
    "#    print(s)\n",
    "#    print('------{}-------'.format(i))\n",
    "#    for start in s:\n",
    "#        print(start)\n",
    "#        print(text[max(0,start-passage):min(start+passage, text_length)])\n",
    "#        print('--------')"
   ]
  },
  {
   "cell_type": "code",
   "execution_count": 95,
   "metadata": {
    "collapsed": false,
    "scrolled": false
   },
   "outputs": [],
   "source": [
    "#i = 23\n",
    "#print(get_gene_list(df['Gene'].iloc[i]))\n",
    "#print(get_var_list(df['Variation'].iloc[i]))\n",
    "#s = get_partial_text(df['Gene'].iloc[i], df['Variation'].iloc[i], df['Text'].iloc[i])\n",
    "#text = df['Text'].iloc[i]\n",
    "#for start in s:\n",
    "#    print(start)\n",
    "#    text_length = len(text)\n",
    "#    print(text[max(0,start-passage):min(start+passage, text_length)].split(' ', 1)[1].rsplit(' ', 1)[0])\n",
    "#    print('--------')"
   ]
  },
  {
   "cell_type": "code",
   "execution_count": 96,
   "metadata": {
    "collapsed": false
   },
   "outputs": [],
   "source": [
    "#i = 2774\n",
    "#print(get_gene_list(df['Gene'].iloc[i]))\n",
    "#print(get_var_list(df['Variation'].iloc[i]))\n",
    "#print(var_in_text(df['Text'].iloc[i]))\n",
    "#text = df['Text'].iloc[i]\n",
    "#print(text[max(0,start-passage):min(start+passage, text_length)].split(' ', 1))"
   ]
  },
  {
   "cell_type": "code",
   "execution_count": 97,
   "metadata": {
    "collapsed": false
   },
   "outputs": [],
   "source": [
    "#for i in df['Text'].unique():\n",
    "#    c = pd.Series(list(df[df['Text']==i]['ID'])).unique()\n",
    "#    if len(c)>1:\n",
    "#        print(df[df['Text']==i])"
   ]
  },
  {
   "cell_type": "code",
   "execution_count": 100,
   "metadata": {
    "collapsed": false
   },
   "outputs": [],
   "source": [
    "#df.iloc[failed].to_csv('/Users/yao/Desktop/ML/cancer/I_vote_for_cancer/yao/input/training_SeparateText_part.csv',\\\n",
    "#                  index=False)"
   ]
  },
  {
   "cell_type": "code",
   "execution_count": null,
   "metadata": {
    "collapsed": true
   },
   "outputs": [],
   "source": []
  }
 ],
 "metadata": {
  "anaconda-cloud": {},
  "kernelspec": {
   "display_name": "Python [conda env:cancer]",
   "language": "python",
   "name": "conda-env-cancer-py"
  },
  "language_info": {
   "codemirror_mode": {
    "name": "ipython",
    "version": 3
   },
   "file_extension": ".py",
   "mimetype": "text/x-python",
   "name": "python",
   "nbconvert_exporter": "python",
   "pygments_lexer": "ipython3",
   "version": "3.6.1"
  }
 },
 "nbformat": 4,
 "nbformat_minor": 1
}
