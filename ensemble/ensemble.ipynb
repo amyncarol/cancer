{
 "cells": [
  {
   "cell_type": "code",
   "execution_count": 1,
   "metadata": {},
   "outputs": [
    {
     "name": "stderr",
     "output_type": "stream",
     "text": [
      "//anaconda/envs/cancer/lib/python3.6/site-packages/sklearn/cross_validation.py:44: DeprecationWarning: This module was deprecated in version 0.18 in favor of the model_selection module into which all the refactored classes and functions are moved. Also note that the interface of the new CV iterators are different from that of this module. This module will be removed in 0.20.\n",
      "  \"This module will be removed in 0.20.\", DeprecationWarning)\n",
      "//anaconda/envs/cancer/lib/python3.6/site-packages/sklearn/grid_search.py:43: DeprecationWarning: This module was deprecated in version 0.18 in favor of the model_selection module into which all the refactored classes and functions are moved. This module will be removed in 0.20.\n",
      "  DeprecationWarning)\n",
      "//anaconda/envs/cancer/lib/python3.6/site-packages/sklearn/lda.py:6: DeprecationWarning: lda.LDA has been moved to discriminant_analysis.LinearDiscriminantAnalysis in 0.17 and will be removed in 0.19\n",
      "  \"in 0.17 and will be removed in 0.19\", DeprecationWarning)\n",
      "//anaconda/envs/cancer/lib/python3.6/site-packages/sklearn/learning_curve.py:23: DeprecationWarning: This module was deprecated in version 0.18 in favor of the model_selection module into which all the functions are moved. This module will be removed in 0.20\n",
      "  DeprecationWarning)\n",
      "//anaconda/envs/cancer/lib/python3.6/site-packages/sklearn/qda.py:6: DeprecationWarning: qda.QDA has been moved to discriminant_analysis.QuadraticDiscriminantAnalysis in 0.17 and will be removed in 0.19.\n",
      "  \"in 0.17 and will be removed in 0.19.\", DeprecationWarning)\n"
     ]
    }
   ],
   "source": [
    "from helpers import *\n",
    "from models import *\n",
    "from sklearn import *"
   ]
  },
  {
   "cell_type": "code",
   "execution_count": 2,
   "metadata": {},
   "outputs": [
    {
     "name": "stdout",
     "output_type": "stream",
     "text": [
      "this is a model based on only gene&variations\n"
     ]
    }
   ],
   "source": [
    "train_full = get_full_table('/Users/yao/Desktop/ML/cancer/I_vote_for_cancer/input/training_variants', \\\n",
    "             '/Users/yao/Desktop/ML/cancer/I_vote_for_cancer/input/training_text')\n",
    "\n",
    "#dummy_full, test_full = model_selection.train_test_split(\\\n",
    "#     data_full, test_size=0.2, random_state=42, stratify=data_full['Class']-1)\n",
    "\n",
    "#train_full, val_full = model_selection.train_test_split(\\\n",
    "#     dummy_full, test_size=0.2, random_state=42, stratify=dummy_full['Class']-1)\n",
    "\n",
    "#print(train_full['Class'].describe())\n",
    "#print(val_full['Class'].describe())\n",
    "#print(test_full['Class'].describe())\n",
    "pl1 = GeneSvm().fit(train_full)"
   ]
  },
  {
   "cell_type": "code",
   "execution_count": null,
   "metadata": {},
   "outputs": [],
   "source": [
    "#GeneSvm().predict_proba(pl1, train_full)\n",
    "#feature1 = GeneSvm().predict_proba(pl1, val_full)\n",
    "#GeneSvm().predict_proba(pl1, test_full)"
   ]
  },
  {
   "cell_type": "code",
   "execution_count": 5,
   "metadata": {},
   "outputs": [
    {
     "name": "stdout",
     "output_type": "stream",
     "text": [
      "this is a tfidf+svm model\n"
     ]
    }
   ],
   "source": [
    "pl2 = TfidfSvm().fit(train_full)"
   ]
  },
  {
   "cell_type": "code",
   "execution_count": 3,
   "metadata": {
    "collapsed": true
   },
   "outputs": [],
   "source": [
    "#TfidfSvm().predict_proba(pl2, train_full)\n",
    "#feature2 = TfidfSvm().predict_proba(pl2, val_full)\n",
    "#TfidfSvm().predict_proba(pl2, test_full)"
   ]
  },
  {
   "cell_type": "code",
   "execution_count": 6,
   "metadata": {
    "collapsed": true
   },
   "outputs": [],
   "source": [
    "test_full = get_full_table('/Users/yao/Desktop/ML/cancer/I_vote_for_cancer/input/test_variants', \\\n",
    "             '/Users/yao/Desktop/ML/cancer/I_vote_for_cancer/input/test_text')"
   ]
  },
  {
   "cell_type": "code",
   "execution_count": 7,
   "metadata": {},
   "outputs": [
    {
     "name": "stdout",
     "output_type": "stream",
     "text": [
      "this is a model based on only gene&variations\n",
      "logloss:\n",
      "0.695261760578\n",
      "this is a tfidf+svm model\n",
      "logloss:\n",
      "0.84096230763\n",
      "this is a model based on only gene&variations\n",
      "this is a tfidf+svm model\n"
     ]
    }
   ],
   "source": [
    "import numpy as np\n",
    "X_train = np.concatenate((GeneSvm().predict_proba(pl1, train_full),\\\n",
    "                          TfidfSvm().predict_proba(pl2, train_full)), axis=1)\n",
    "y_train = train_full['Class']-1\n",
    "\n",
    "X_test = np.concatenate((GeneSvm().predict_proba(pl1, test_full), TfidfSvm().predict_proba(pl2, test_full)), axis=1)\n",
    "#y_test = test_full['Class']-1"
   ]
  },
  {
   "cell_type": "code",
   "execution_count": 8,
   "metadata": {},
   "outputs": [
    {
     "data": {
      "text/plain": [
       "GridSearchCV(cv=None, error_score='raise',\n",
       "       estimator=OneVsRestClassifier(estimator=SVC(C=1.0, cache_size=200, class_weight='balanced', coef0=0.0,\n",
       "  decision_function_shape=None, degree=3, gamma='auto', kernel='rbf',\n",
       "  max_iter=-1, probability=True, random_state=None, shrinking=True,\n",
       "  tol=0.001, verbose=False),\n",
       "          n_jobs=1),\n",
       "       fit_params={}, iid=True, n_jobs=-1,\n",
       "       param_grid={'estimator__C': [10], 'estimator__kernel': ['rbf']},\n",
       "       pre_dispatch='2*n_jobs', refit=True, return_train_score=True,\n",
       "       scoring='neg_log_loss', verbose=0)"
      ]
     },
     "execution_count": 8,
     "metadata": {},
     "output_type": "execute_result"
    }
   ],
   "source": [
    "##Fitting\n",
    "parameters = {\n",
    "    \"estimator__C\": [10],\n",
    "    \"estimator__kernel\": ['rbf'],\n",
    "    #\"estimator__degree\": [2, 3]\n",
    "}\n",
    "\n",
    "clf = GridSearchCV(OneVsRestClassifier(svm.SVC(probability=True, class_weight='balanced')),\\\n",
    "                   param_grid=parameters, scoring='neg_log_loss', n_jobs=-1)\n",
    "clf.fit(X_train, y_train)"
   ]
  },
  {
   "cell_type": "code",
   "execution_count": null,
   "metadata": {
    "collapsed": true
   },
   "outputs": [],
   "source": [
    "pd.DataFrame.from_dict(clf.cv_results_)"
   ]
  },
  {
   "cell_type": "code",
   "execution_count": 9,
   "metadata": {},
   "outputs": [
    {
     "name": "stdout",
     "output_type": "stream",
     "text": [
      "0.432969825797\n"
     ]
    }
   ],
   "source": [
    "y_train_prob = clf.predict_proba(X_train)\n",
    "y_test_prob = clf.predict_proba(X_test)\n",
    "print(log_loss(y_train, y_train_prob, eps=1e-15, normalize=True, labels=range(9)))\n",
    "submission('./input/submission_ensemble1.csv', y_test_prob)\n",
    "#print(log_loss(y_test, y_test_prob, eps=1e-15, normalize=True, labels=range(9)))"
   ]
  },
  {
   "cell_type": "code",
   "execution_count": null,
   "metadata": {
    "collapsed": true
   },
   "outputs": [],
   "source": [
    "df = pd.DataFrame(y_test_prob, columns=['class'+str(c+1) for c in range(9)])\n",
    "df['Class_pred'] = df.idxmax(axis=1).map(lambda x:int(x[5]))\n",
    "df['ID'] = test_full['ID'].values"
   ]
  },
  {
   "cell_type": "code",
   "execution_count": null,
   "metadata": {
    "collapsed": true
   },
   "outputs": [],
   "source": [
    "df = df.merge(data_full, how='inner', on='ID')\n",
    "df_wrong = df[df['Class_pred']!= df['Class']]"
   ]
  },
  {
   "cell_type": "code",
   "execution_count": null,
   "metadata": {
    "collapsed": true
   },
   "outputs": [],
   "source": [
    "df_wrong['Gene'].unique()"
   ]
  },
  {
   "cell_type": "code",
   "execution_count": null,
   "metadata": {
    "collapsed": true
   },
   "outputs": [],
   "source": []
  }
 ],
 "metadata": {
  "anaconda-cloud": {},
  "kernelspec": {
   "display_name": "Python 3",
   "language": "python",
   "name": "python3"
  },
  "language_info": {
   "codemirror_mode": {
    "name": "ipython",
    "version": 3
   },
   "file_extension": ".py",
   "mimetype": "text/x-python",
   "name": "python",
   "nbconvert_exporter": "python",
   "pygments_lexer": "ipython3",
   "version": "3.6.1"
  }
 },
 "nbformat": 4,
 "nbformat_minor": 1
}
