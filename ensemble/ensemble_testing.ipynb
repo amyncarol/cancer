{
 "cells": [
  {
   "cell_type": "code",
   "execution_count": 1,
   "metadata": {
    "collapsed": false
   },
   "outputs": [
    {
     "name": "stderr",
     "output_type": "stream",
     "text": [
      "//anaconda/envs/cancer/lib/python3.6/site-packages/sklearn/cross_validation.py:44: DeprecationWarning: This module was deprecated in version 0.18 in favor of the model_selection module into which all the refactored classes and functions are moved. Also note that the interface of the new CV iterators are different from that of this module. This module will be removed in 0.20.\n",
      "  \"This module will be removed in 0.20.\", DeprecationWarning)\n",
      "//anaconda/envs/cancer/lib/python3.6/site-packages/sklearn/grid_search.py:43: DeprecationWarning: This module was deprecated in version 0.18 in favor of the model_selection module into which all the refactored classes and functions are moved. This module will be removed in 0.20.\n",
      "  DeprecationWarning)\n",
      "//anaconda/envs/cancer/lib/python3.6/site-packages/sklearn/lda.py:6: DeprecationWarning: lda.LDA has been moved to discriminant_analysis.LinearDiscriminantAnalysis in 0.17 and will be removed in 0.19\n",
      "  \"in 0.17 and will be removed in 0.19\", DeprecationWarning)\n",
      "//anaconda/envs/cancer/lib/python3.6/site-packages/sklearn/learning_curve.py:23: DeprecationWarning: This module was deprecated in version 0.18 in favor of the model_selection module into which all the functions are moved. This module will be removed in 0.20\n",
      "  DeprecationWarning)\n",
      "//anaconda/envs/cancer/lib/python3.6/site-packages/sklearn/qda.py:6: DeprecationWarning: qda.QDA has been moved to discriminant_analysis.QuadraticDiscriminantAnalysis in 0.17 and will be removed in 0.19.\n",
      "  \"in 0.17 and will be removed in 0.19.\", DeprecationWarning)\n"
     ]
    }
   ],
   "source": [
    "import os, math\n",
    "import numpy as np\n",
    "import pandas as pd\n",
    "import seaborn as sns\n",
    "import helpers\n",
    "\n",
    "%matplotlib inline\n",
    "import time\n",
    "import matplotlib.pyplot as plt\n",
    "from sklearn.feature_extraction.text import TfidfVectorizer\n",
    "from sklearn.model_selection import train_test_split\n",
    "import pandas as pd\n",
    "\n",
    "from sklearn import svm\n",
    "from sklearn.preprocessing import label_binarize\n",
    "from sklearn.multiclass import OneVsRestClassifier\n",
    "from sklearn.pipeline import Pipeline\n",
    "from sklearn.feature_selection import SelectKBest, mutual_info_classif, chi2, f_classif\n",
    "from sklearn.metrics import log_loss\n",
    "\n",
    "from sklearn.decomposition import PCA, TruncatedSVD\n",
    "from sklearn.discriminant_analysis import LinearDiscriminantAnalysis\n",
    "from sklearn.model_selection import GridSearchCV\n",
    "from sklearn import *\n",
    "import sklearn"
   ]
  },
  {
   "cell_type": "code",
   "execution_count": 40,
   "metadata": {
    "collapsed": true
   },
   "outputs": [],
   "source": [
    "def read_files(file, fileindex):\n",
    "    return pd.read_csv(file, \\\n",
    "            names = np.array(['feature'+str(i) for i in range(fileindex*9, 9+fileindex*9)]), usecols = np.array(range(1, 10)), skiprows = [0])\n",
    "    \n",
    "def create_feature_matrix(file_list):\n",
    "    pd_list = []\n",
    "    for i, file in enumerate(file_list):\n",
    "        pd_list.append(read_files(file, i))\n",
    "    return pd.concat(pd_list, axis = 1)\n"
   ]
  },
  {
   "cell_type": "code",
   "execution_count": 60,
   "metadata": {
    "collapsed": false
   },
   "outputs": [],
   "source": [
    "X_train=create_feature_matrix(['/Users/yao/Desktop/ML/cancer/I_vote_for_cancer/2nd_layer_data/train_prob_gene_svm_1.16',\\\n",
    "                      '/Users/yao/Desktop/ML/cancer/I_vote_for_cancer/2nd_layer_data/train_prob_tfidf_svm_1.08'])\n",
    "X_test=create_feature_matrix(['/Users/yao/Desktop/ML/cancer/I_vote_for_cancer/2nd_layer_data/test_prob_gene_svm_1.16',\\\n",
    "                      '/Users/yao/Desktop/ML/cancer/I_vote_for_cancer/2nd_layer_data/test_prob_tfidf_svm_1.08'])\n",
    "text, variants = helpers.get_training('./input/training_variants', './input/training_text')\n",
    "y_train = variants['Class']-1\n",
    "text, variants = helpers.get_test('./input/training_variants', './input/training_text')\n",
    "y_test = variants['Class']-1"
   ]
  },
  {
   "cell_type": "code",
   "execution_count": 72,
   "metadata": {
    "collapsed": false
   },
   "outputs": [
    {
     "data": {
      "text/plain": [
       "GridSearchCV(cv=None, error_score='raise',\n",
       "       estimator=OneVsRestClassifier(estimator=SVC(C=1.0, cache_size=200, class_weight='balanced', coef0=0.0,\n",
       "  decision_function_shape=None, degree=3, gamma='auto', kernel='rbf',\n",
       "  max_iter=-1, probability=True, random_state=None, shrinking=True,\n",
       "  tol=0.001, verbose=False),\n",
       "          n_jobs=1),\n",
       "       fit_params={}, iid=True, n_jobs=-1,\n",
       "       param_grid={'estimator__C': [0.1, 1, 10], 'estimator__kernel': ['linear', 'rbf']},\n",
       "       pre_dispatch='2*n_jobs', refit=True, return_train_score=True,\n",
       "       scoring='neg_log_loss', verbose=0)"
      ]
     },
     "execution_count": 72,
     "metadata": {},
     "output_type": "execute_result"
    }
   ],
   "source": [
    "##Fitting\n",
    "parameters = {\n",
    "    \"estimator__C\": [0.1, 1, 10],\n",
    "    \"estimator__kernel\": ['linear', 'rbf']\n",
    "    #\"estimator__degree\": [2, 3]\n",
    "}\n",
    "\n",
    "clf = GridSearchCV(OneVsRestClassifier(svm.SVC(probability=True, class_weight='balanced')),\\\n",
    "                   param_grid=parameters, scoring='neg_log_loss', n_jobs=-1)\n",
    "clf.fit(X_train, y_train)"
   ]
  },
  {
   "cell_type": "code",
   "execution_count": 73,
   "metadata": {
    "collapsed": false
   },
   "outputs": [
    {
     "data": {
      "text/html": [
       "<div>\n",
       "<style>\n",
       "    .dataframe thead tr:only-child th {\n",
       "        text-align: right;\n",
       "    }\n",
       "\n",
       "    .dataframe thead th {\n",
       "        text-align: left;\n",
       "    }\n",
       "\n",
       "    .dataframe tbody tr th {\n",
       "        vertical-align: top;\n",
       "    }\n",
       "</style>\n",
       "<table border=\"1\" class=\"dataframe\">\n",
       "  <thead>\n",
       "    <tr style=\"text-align: right;\">\n",
       "      <th></th>\n",
       "      <th>mean_fit_time</th>\n",
       "      <th>mean_score_time</th>\n",
       "      <th>mean_test_score</th>\n",
       "      <th>mean_train_score</th>\n",
       "      <th>param_estimator__C</th>\n",
       "      <th>param_estimator__kernel</th>\n",
       "      <th>params</th>\n",
       "      <th>rank_test_score</th>\n",
       "      <th>split0_test_score</th>\n",
       "      <th>split0_train_score</th>\n",
       "      <th>split1_test_score</th>\n",
       "      <th>split1_train_score</th>\n",
       "      <th>split2_test_score</th>\n",
       "      <th>split2_train_score</th>\n",
       "      <th>std_fit_time</th>\n",
       "      <th>std_score_time</th>\n",
       "      <th>std_test_score</th>\n",
       "      <th>std_train_score</th>\n",
       "    </tr>\n",
       "  </thead>\n",
       "  <tbody>\n",
       "    <tr>\n",
       "      <th>0</th>\n",
       "      <td>2.732365</td>\n",
       "      <td>0.180094</td>\n",
       "      <td>-0.455738</td>\n",
       "      <td>-0.443291</td>\n",
       "      <td>0.1</td>\n",
       "      <td>linear</td>\n",
       "      <td>{'estimator__C': 0.1, 'estimator__kernel': 'li...</td>\n",
       "      <td>5</td>\n",
       "      <td>-0.475354</td>\n",
       "      <td>-0.435464</td>\n",
       "      <td>-0.460166</td>\n",
       "      <td>-0.442545</td>\n",
       "      <td>-0.431573</td>\n",
       "      <td>-0.451863</td>\n",
       "      <td>0.045832</td>\n",
       "      <td>0.002981</td>\n",
       "      <td>0.018147</td>\n",
       "      <td>0.006716</td>\n",
       "    </tr>\n",
       "    <tr>\n",
       "      <th>1</th>\n",
       "      <td>6.927477</td>\n",
       "      <td>0.490919</td>\n",
       "      <td>-0.539708</td>\n",
       "      <td>-0.524755</td>\n",
       "      <td>0.1</td>\n",
       "      <td>rbf</td>\n",
       "      <td>{'estimator__C': 0.1, 'estimator__kernel': 'rbf'}</td>\n",
       "      <td>6</td>\n",
       "      <td>-0.533283</td>\n",
       "      <td>-0.514638</td>\n",
       "      <td>-0.547435</td>\n",
       "      <td>-0.523528</td>\n",
       "      <td>-0.538425</td>\n",
       "      <td>-0.536100</td>\n",
       "      <td>0.331286</td>\n",
       "      <td>0.005673</td>\n",
       "      <td>0.005852</td>\n",
       "      <td>0.008805</td>\n",
       "    </tr>\n",
       "    <tr>\n",
       "      <th>2</th>\n",
       "      <td>1.342477</td>\n",
       "      <td>0.087662</td>\n",
       "      <td>-0.433231</td>\n",
       "      <td>-0.411119</td>\n",
       "      <td>1</td>\n",
       "      <td>linear</td>\n",
       "      <td>{'estimator__C': 1, 'estimator__kernel': 'line...</td>\n",
       "      <td>2</td>\n",
       "      <td>-0.451858</td>\n",
       "      <td>-0.401444</td>\n",
       "      <td>-0.428384</td>\n",
       "      <td>-0.411895</td>\n",
       "      <td>-0.419356</td>\n",
       "      <td>-0.420018</td>\n",
       "      <td>0.013084</td>\n",
       "      <td>0.003624</td>\n",
       "      <td>0.013705</td>\n",
       "      <td>0.007602</td>\n",
       "    </tr>\n",
       "    <tr>\n",
       "      <th>3</th>\n",
       "      <td>2.823190</td>\n",
       "      <td>0.207675</td>\n",
       "      <td>-0.452666</td>\n",
       "      <td>-0.438756</td>\n",
       "      <td>1</td>\n",
       "      <td>rbf</td>\n",
       "      <td>{'estimator__C': 1, 'estimator__kernel': 'rbf'}</td>\n",
       "      <td>4</td>\n",
       "      <td>-0.471804</td>\n",
       "      <td>-0.430612</td>\n",
       "      <td>-0.456627</td>\n",
       "      <td>-0.437895</td>\n",
       "      <td>-0.429449</td>\n",
       "      <td>-0.447761</td>\n",
       "      <td>0.025896</td>\n",
       "      <td>0.002606</td>\n",
       "      <td>0.017518</td>\n",
       "      <td>0.007027</td>\n",
       "    </tr>\n",
       "    <tr>\n",
       "      <th>4</th>\n",
       "      <td>1.469230</td>\n",
       "      <td>0.076524</td>\n",
       "      <td>-0.442127</td>\n",
       "      <td>-0.406673</td>\n",
       "      <td>10</td>\n",
       "      <td>linear</td>\n",
       "      <td>{'estimator__C': 10, 'estimator__kernel': 'lin...</td>\n",
       "      <td>3</td>\n",
       "      <td>-0.464150</td>\n",
       "      <td>-0.399339</td>\n",
       "      <td>-0.430602</td>\n",
       "      <td>-0.405113</td>\n",
       "      <td>-0.431531</td>\n",
       "      <td>-0.415568</td>\n",
       "      <td>0.018128</td>\n",
       "      <td>0.003943</td>\n",
       "      <td>0.015612</td>\n",
       "      <td>0.006717</td>\n",
       "    </tr>\n",
       "    <tr>\n",
       "      <th>5</th>\n",
       "      <td>1.680560</td>\n",
       "      <td>0.097937</td>\n",
       "      <td>-0.428876</td>\n",
       "      <td>-0.399474</td>\n",
       "      <td>10</td>\n",
       "      <td>rbf</td>\n",
       "      <td>{'estimator__C': 10, 'estimator__kernel': 'rbf'}</td>\n",
       "      <td>1</td>\n",
       "      <td>-0.447086</td>\n",
       "      <td>-0.389814</td>\n",
       "      <td>-0.425587</td>\n",
       "      <td>-0.401947</td>\n",
       "      <td>-0.413858</td>\n",
       "      <td>-0.406659</td>\n",
       "      <td>0.103885</td>\n",
       "      <td>0.014026</td>\n",
       "      <td>0.013764</td>\n",
       "      <td>0.007096</td>\n",
       "    </tr>\n",
       "  </tbody>\n",
       "</table>\n",
       "</div>"
      ],
      "text/plain": [
       "   mean_fit_time  mean_score_time  mean_test_score  mean_train_score  \\\n",
       "0       2.732365         0.180094        -0.455738         -0.443291   \n",
       "1       6.927477         0.490919        -0.539708         -0.524755   \n",
       "2       1.342477         0.087662        -0.433231         -0.411119   \n",
       "3       2.823190         0.207675        -0.452666         -0.438756   \n",
       "4       1.469230         0.076524        -0.442127         -0.406673   \n",
       "5       1.680560         0.097937        -0.428876         -0.399474   \n",
       "\n",
       "  param_estimator__C param_estimator__kernel  \\\n",
       "0                0.1                  linear   \n",
       "1                0.1                     rbf   \n",
       "2                  1                  linear   \n",
       "3                  1                     rbf   \n",
       "4                 10                  linear   \n",
       "5                 10                     rbf   \n",
       "\n",
       "                                              params  rank_test_score  \\\n",
       "0  {'estimator__C': 0.1, 'estimator__kernel': 'li...                5   \n",
       "1  {'estimator__C': 0.1, 'estimator__kernel': 'rbf'}                6   \n",
       "2  {'estimator__C': 1, 'estimator__kernel': 'line...                2   \n",
       "3    {'estimator__C': 1, 'estimator__kernel': 'rbf'}                4   \n",
       "4  {'estimator__C': 10, 'estimator__kernel': 'lin...                3   \n",
       "5   {'estimator__C': 10, 'estimator__kernel': 'rbf'}                1   \n",
       "\n",
       "   split0_test_score  split0_train_score  split1_test_score  \\\n",
       "0          -0.475354           -0.435464          -0.460166   \n",
       "1          -0.533283           -0.514638          -0.547435   \n",
       "2          -0.451858           -0.401444          -0.428384   \n",
       "3          -0.471804           -0.430612          -0.456627   \n",
       "4          -0.464150           -0.399339          -0.430602   \n",
       "5          -0.447086           -0.389814          -0.425587   \n",
       "\n",
       "   split1_train_score  split2_test_score  split2_train_score  std_fit_time  \\\n",
       "0           -0.442545          -0.431573           -0.451863      0.045832   \n",
       "1           -0.523528          -0.538425           -0.536100      0.331286   \n",
       "2           -0.411895          -0.419356           -0.420018      0.013084   \n",
       "3           -0.437895          -0.429449           -0.447761      0.025896   \n",
       "4           -0.405113          -0.431531           -0.415568      0.018128   \n",
       "5           -0.401947          -0.413858           -0.406659      0.103885   \n",
       "\n",
       "   std_score_time  std_test_score  std_train_score  \n",
       "0        0.002981        0.018147         0.006716  \n",
       "1        0.005673        0.005852         0.008805  \n",
       "2        0.003624        0.013705         0.007602  \n",
       "3        0.002606        0.017518         0.007027  \n",
       "4        0.003943        0.015612         0.006717  \n",
       "5        0.014026        0.013764         0.007096  "
      ]
     },
     "execution_count": 73,
     "metadata": {},
     "output_type": "execute_result"
    }
   ],
   "source": [
    "pd.DataFrame.from_dict(clf.cv_results_)"
   ]
  },
  {
   "cell_type": "code",
   "execution_count": 74,
   "metadata": {
    "collapsed": false
   },
   "outputs": [
    {
     "name": "stdout",
     "output_type": "stream",
     "text": [
      "0.398035466254\n",
      "1.15845494445\n"
     ]
    }
   ],
   "source": [
    "#Evaluate\n",
    "y_train_prob = clf.predict_proba(X_train)\n",
    "y_test_prob = clf.predict_proba(X_test)\n",
    "print(log_loss(y_train, y_train_prob, eps=1e-15, normalize=True, labels=range(9)))\n",
    "#print(log_loss(y_val, clf.predict_proba(X_val), eps=1e-15, normalize=True, labels=range(9)))\n",
    "print(log_loss(y_test, y_test_prob, eps=1e-15, normalize=True, labels=range(9)))"
   ]
  },
  {
   "cell_type": "code",
   "execution_count": 75,
   "metadata": {
    "collapsed": false
   },
   "outputs": [
    {
     "data": {
      "text/plain": [
       "-1.1584549444483325"
      ]
     },
     "execution_count": 75,
     "metadata": {},
     "output_type": "execute_result"
    }
   ],
   "source": [
    "clf.score(X_test,y_test)"
   ]
  },
  {
   "cell_type": "code",
   "execution_count": null,
   "metadata": {
    "collapsed": true
   },
   "outputs": [],
   "source": []
  }
 ],
 "metadata": {
  "anaconda-cloud": {},
  "kernelspec": {
   "display_name": "Python [conda env:cancer]",
   "language": "python",
   "name": "conda-env-cancer-py"
  },
  "language_info": {
   "codemirror_mode": {
    "name": "ipython",
    "version": 3
   },
   "file_extension": ".py",
   "mimetype": "text/x-python",
   "name": "python",
   "nbconvert_exporter": "python",
   "pygments_lexer": "ipython3",
   "version": "3.6.1"
  }
 },
 "nbformat": 4,
 "nbformat_minor": 1
}
