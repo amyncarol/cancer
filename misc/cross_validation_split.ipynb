{
 "cells": [
  {
   "cell_type": "code",
   "execution_count": 2,
   "metadata": {
    "collapsed": true
   },
   "outputs": [],
   "source": [
    "import pandas as pd\n",
    "from sklearn.model_selection import StratifiedKFold\n",
    "\n",
    "train_variants_df = pd.read_csv(\"./data/training_variants\")\n",
    "train_text_df = pd.read_csv(\"./data/training_text\", sep=\"\\|\\|\", engine=\"python\", skiprows=1, names=[\"ID\", \"Text\"])"
   ]
  },
  {
   "cell_type": "code",
   "execution_count": 6,
   "metadata": {
    "collapsed": false
   },
   "outputs": [
    {
     "name": "stdout",
     "output_type": "stream",
     "text": [
      "count    668.000000\n",
      "mean       4.368263\n",
      "std        2.313317\n",
      "min        1.000000\n",
      "25%        2.000000\n",
      "50%        4.000000\n",
      "75%        7.000000\n",
      "max        9.000000\n",
      "Name: Class, dtype: float64\n",
      "count    2653.000000\n",
      "mean        4.365247\n",
      "std         2.309326\n",
      "min         1.000000\n",
      "25%         2.000000\n",
      "50%         4.000000\n",
      "75%         7.000000\n",
      "max         9.000000\n",
      "Name: Class, dtype: float64\n",
      "count    667.000000\n",
      "mean       4.368816\n",
      "std        2.315009\n",
      "min        1.000000\n",
      "25%        2.000000\n",
      "50%        4.000000\n",
      "75%        7.000000\n",
      "max        9.000000\n",
      "Name: Class, dtype: float64\n",
      "count    2654.000000\n",
      "mean        4.365109\n",
      "std         2.308901\n",
      "min         1.000000\n",
      "25%         2.000000\n",
      "50%         4.000000\n",
      "75%         7.000000\n",
      "max         9.000000\n",
      "Name: Class, dtype: float64\n",
      "count    664.000000\n",
      "mean       4.364458\n",
      "std        2.311295\n",
      "min        1.000000\n",
      "25%        2.000000\n",
      "50%        4.000000\n",
      "75%        7.000000\n",
      "max        9.000000\n",
      "Name: Class, dtype: float64\n",
      "count    2657.000000\n",
      "mean        4.366202\n",
      "std         2.309837\n",
      "min         1.000000\n",
      "25%         2.000000\n",
      "50%         4.000000\n",
      "75%         7.000000\n",
      "max         9.000000\n",
      "Name: Class, dtype: float64\n",
      "count    662.000000\n",
      "mean       4.365559\n",
      "std        2.308812\n",
      "min        1.000000\n",
      "25%        2.000000\n",
      "50%        4.000000\n",
      "75%        7.000000\n",
      "max        9.000000\n",
      "Name: Class, dtype: float64\n",
      "count    2659.000000\n",
      "mean        4.365927\n",
      "std         2.310456\n",
      "min         1.000000\n",
      "25%         2.000000\n",
      "50%         4.000000\n",
      "75%         7.000000\n",
      "max         9.000000\n",
      "Name: Class, dtype: float64\n",
      "count    660.000000\n",
      "mean       4.362121\n",
      "std        2.307359\n",
      "min        1.000000\n",
      "25%        2.000000\n",
      "50%        4.000000\n",
      "75%        7.000000\n",
      "max        9.000000\n",
      "Name: Class, dtype: float64\n",
      "count    2661.000000\n",
      "mean        4.366779\n",
      "std         2.310813\n",
      "min         1.000000\n",
      "25%         2.000000\n",
      "50%         4.000000\n",
      "75%         7.000000\n",
      "max         9.000000\n",
      "Name: Class, dtype: float64\n"
     ]
    }
   ],
   "source": [
    "#Assume Independent Identically Distribution (i.i.d.)\n",
    "#Stratified 5 fold cross-validation, Every data subset has similar class distribution.\n",
    "\n",
    "skf = StratifiedKFold(n_splits=5, shuffle=True, random_state=1)\n",
    "for train, test in skf.split(train_variants_df, train_variants_df.Class):\n",
    "    print(train_variants_df.iloc[test, :]['Class'].describe())\n",
    "    print(train_variants_df.iloc[train, :]['Class'].describe())"
   ]
  },
  {
   "cell_type": "code",
   "execution_count": 16,
   "metadata": {
    "collapsed": true
   },
   "outputs": [],
   "source": [
    "X_train, X_test, y_train, y_test = train_test_split('./data/training_variants', './data/training_text')"
   ]
  },
  {
   "cell_type": "code",
   "execution_count": null,
   "metadata": {
    "collapsed": true
   },
   "outputs": [],
   "source": []
  }
 ],
 "metadata": {
  "kernelspec": {
   "display_name": "Python [default]",
   "language": "python",
   "name": "python3"
  },
  "language_info": {
   "codemirror_mode": {
    "name": "ipython",
    "version": 3
   },
   "file_extension": ".py",
   "mimetype": "text/x-python",
   "name": "python",
   "nbconvert_exporter": "python",
   "pygments_lexer": "ipython3",
   "version": "3.5.2"
  }
 },
 "nbformat": 4,
 "nbformat_minor": 2
}
