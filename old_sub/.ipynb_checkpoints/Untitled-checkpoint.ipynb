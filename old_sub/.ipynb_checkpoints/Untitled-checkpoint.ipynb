{
 "cells": [
  {
   "cell_type": "code",
   "execution_count": 40,
   "metadata": {
    "collapsed": false
   },
   "outputs": [],
   "source": [
    "import pandas as pd\n",
    "import copy\n",
    "\n",
    "a = pd.read_csv('submission_xgb.csv')\n",
    "\n",
    "b = copy.deepcopy(a)"
   ]
  },
  {
   "cell_type": "code",
   "execution_count": 41,
   "metadata": {
    "collapsed": false
   },
   "outputs": [],
   "source": [
    "for i in range(a.shape[0]):\n",
    "    if a.iloc[i,1]+a.iloc[i,4] > 0.5:\n",
    "        b.iloc[i,1:10] = a.iloc[i,1:10]/10\n",
    "        b.iloc[i,1] = a.iloc[i,1]/(a.iloc[i,1]+a.iloc[i,4])\n",
    "        b.iloc[i,4] = a.iloc[i,4]/(a.iloc[i,1]+a.iloc[i,4])\n",
    "        #print('1,4')\n",
    "        #print(b.iloc[i,1:10], a.iloc[i,1:10])\n",
    "    if a.iloc[i,2]+a.iloc[i,7] > 0.5:\n",
    "        b.iloc[i,1:10] = a.iloc[i,1:10]/10\n",
    "        b.iloc[i,2] = a.iloc[i,2]/(a.iloc[i,2]+a.iloc[i,7])\n",
    "        b.iloc[i,7] = a.iloc[i,7]/(a.iloc[i,2]+a.iloc[i,7])\n",
    "        #print('2,7')\n",
    "        #print(b.iloc[i,1:10], a.iloc[i,1:10])"
   ]
  },
  {
   "cell_type": "code",
   "execution_count": 42,
   "metadata": {
    "collapsed": false
   },
   "outputs": [],
   "source": [
    "b.to_csv('submission_xgb_adjust.csv', index=False)"
   ]
  },
  {
   "cell_type": "code",
   "execution_count": 30,
   "metadata": {
    "collapsed": false
   },
   "outputs": [
    {
     "data": {
      "text/plain": [
       "Index(['ID', 'class1', 'class2', 'class3', 'class4', 'class5', 'class6',\n",
       "       'class7', 'class8', 'class9'],\n",
       "      dtype='object')"
      ]
     },
     "execution_count": 30,
     "metadata": {},
     "output_type": "execute_result"
    }
   ],
   "source": [
    "a.columns"
   ]
  },
  {
   "cell_type": "code",
   "execution_count": null,
   "metadata": {
    "collapsed": true
   },
   "outputs": [],
   "source": []
  }
 ],
 "metadata": {
  "anaconda-cloud": {},
  "kernelspec": {
   "display_name": "Python [conda env:cancer]",
   "language": "python",
   "name": "conda-env-cancer-py"
  },
  "language_info": {
   "codemirror_mode": {
    "name": "ipython",
    "version": 3
   },
   "file_extension": ".py",
   "mimetype": "text/x-python",
   "name": "python",
   "nbconvert_exporter": "python",
   "pygments_lexer": "ipython3",
   "version": "3.6.1"
  }
 },
 "nbformat": 4,
 "nbformat_minor": 1
}
