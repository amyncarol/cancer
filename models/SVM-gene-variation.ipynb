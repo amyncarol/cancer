{
 "cells": [
  {
   "cell_type": "code",
   "execution_count": 1,
   "metadata": {
    "collapsed": false
   },
   "outputs": [
    {
     "name": "stderr",
     "output_type": "stream",
     "text": [
      "//anaconda/envs/cancer/lib/python3.6/site-packages/sklearn/cross_validation.py:44: DeprecationWarning: This module was deprecated in version 0.18 in favor of the model_selection module into which all the refactored classes and functions are moved. Also note that the interface of the new CV iterators are different from that of this module. This module will be removed in 0.20.\n",
      "  \"This module will be removed in 0.20.\", DeprecationWarning)\n",
      "//anaconda/envs/cancer/lib/python3.6/site-packages/sklearn/grid_search.py:43: DeprecationWarning: This module was deprecated in version 0.18 in favor of the model_selection module into which all the refactored classes and functions are moved. This module will be removed in 0.20.\n",
      "  DeprecationWarning)\n",
      "//anaconda/envs/cancer/lib/python3.6/site-packages/sklearn/lda.py:6: DeprecationWarning: lda.LDA has been moved to discriminant_analysis.LinearDiscriminantAnalysis in 0.17 and will be removed in 0.19\n",
      "  \"in 0.17 and will be removed in 0.19\", DeprecationWarning)\n",
      "//anaconda/envs/cancer/lib/python3.6/site-packages/sklearn/learning_curve.py:23: DeprecationWarning: This module was deprecated in version 0.18 in favor of the model_selection module into which all the functions are moved. This module will be removed in 0.20\n",
      "  DeprecationWarning)\n",
      "//anaconda/envs/cancer/lib/python3.6/site-packages/sklearn/qda.py:6: DeprecationWarning: qda.QDA has been moved to discriminant_analysis.QuadraticDiscriminantAnalysis in 0.17 and will be removed in 0.19.\n",
      "  \"in 0.17 and will be removed in 0.19.\", DeprecationWarning)\n"
     ]
    }
   ],
   "source": [
    "import os, math\n",
    "import numpy as np\n",
    "import pandas as pd\n",
    "import seaborn as sns\n",
    "import helpers\n",
    "\n",
    "%matplotlib inline\n",
    "import time\n",
    "import matplotlib.pyplot as plt\n",
    "from sklearn.feature_extraction.text import TfidfVectorizer\n",
    "from sklearn.model_selection import train_test_split\n",
    "import pandas as pd\n",
    "\n",
    "from sklearn import svm\n",
    "from sklearn.preprocessing import label_binarize\n",
    "from sklearn.multiclass import OneVsRestClassifier\n",
    "from sklearn.pipeline import Pipeline\n",
    "from sklearn.feature_selection import SelectKBest, mutual_info_classif, chi2, f_classif\n",
    "from sklearn.metrics import log_loss\n",
    "\n",
    "from sklearn.decomposition import PCA, TruncatedSVD\n",
    "from sklearn.discriminant_analysis import LinearDiscriminantAnalysis\n",
    "from sklearn.model_selection import GridSearchCV\n",
    "from sklearn import *\n",
    "import sklearn\n",
    "from models import *"
   ]
  },
  {
   "cell_type": "code",
   "execution_count": 2,
   "metadata": {
    "collapsed": false
   },
   "outputs": [
    {
     "name": "stdout",
     "output_type": "stream",
     "text": [
      "(2656, 5)\n",
      "(665, 5)\n",
      "(5668, 4)\n"
     ]
    }
   ],
   "source": [
    "text, variants = helpers.get_training('./input/training_variants', './input/training_text')\n",
    "#train_full, val_full = train_test_split(variants.merge(text, how='inner', on='ID'))\n",
    "train_full = variants.merge(text, how='inner', on='ID')\n",
    "\n",
    "\n",
    "#this is 20% of the labeled data\n",
    "text, variants = helpers.get_test('./input/training_variants', './input/training_text')\n",
    "test_full = variants.merge(text, how='inner', on='ID')\n",
    "\n",
    "true_test_full = helpers.get_full_table('./input/test_variants', './input/test_text')\n",
    "\n",
    "print(train_full.shape)\n",
    "#print(val_full.shape)\n",
    "print(test_full.shape)\n",
    "print(true_test_full.shape)"
   ]
  },
  {
   "cell_type": "code",
   "execution_count": null,
   "metadata": {
    "collapsed": false
   },
   "outputs": [],
   "source": [
    "train_full.columns"
   ]
  },
  {
   "cell_type": "code",
   "execution_count": 3,
   "metadata": {
    "collapsed": false
   },
   "outputs": [
    {
     "name": "stdout",
     "output_type": "stream",
     "text": [
      "this is a model based on only gene&variations\n",
      "this is a model based on only gene&variations\n",
      "logloss:\n",
      "0.695931574514\n",
      "this is a model based on only gene&variations\n",
      "logloss:\n",
      "1.0720671369\n"
     ]
    }
   ],
   "source": [
    "pl = GeneSvm().fit(train_full)\n",
    "train_prob=GeneSvm().predict_proba(pl, train_full)\n",
    "test_prob=GeneSvm().predict_proba(pl, test_full)"
   ]
  },
  {
   "cell_type": "markdown",
   "metadata": {},
   "source": [
    "Use TF-IDF to Vectorize the texts， a feature selector, then SVM one-vs-all classification. "
   ]
  },
  {
   "cell_type": "code",
   "execution_count": 5,
   "metadata": {
    "collapsed": false
   },
   "outputs": [
    {
     "name": "stdout",
     "output_type": "stream",
     "text": [
      "this is a model based on only gene&variations\n"
     ]
    }
   ],
   "source": [
    "true_test_prob=GeneSvm().predict_proba(pl, true_test_full)"
   ]
  },
  {
   "cell_type": "code",
   "execution_count": null,
   "metadata": {
    "collapsed": true
   },
   "outputs": [],
   "source": [
    "#helpers.submission('./2nd_layer_data/train_prob', y_train_prob)\n",
    "#helpers.submission('./2nd_layer_data/test_prob', y_test_prob)"
   ]
  },
  {
   "cell_type": "code",
   "execution_count": 6,
   "metadata": {
    "collapsed": false
   },
   "outputs": [],
   "source": [
    "helpers.submission('./input/submission_gene.csv', true_test_prob)"
   ]
  },
  {
   "cell_type": "code",
   "execution_count": null,
   "metadata": {
    "collapsed": false,
    "scrolled": true
   },
   "outputs": [],
   "source": [
    "#helpers.plot_roc_curve(y_test_bi, y_test_prob)"
   ]
  },
  {
   "cell_type": "code",
   "execution_count": null,
   "metadata": {
    "collapsed": false
   },
   "outputs": [],
   "source": [
    "#X_train_gene_var = np.array(X_train)\n",
    "#X_test_gene_var = np.array(X_test)\n",
    "\n",
    "#np.save('./2nd_layer_data/X_train_gene_var', X_train_gene_var)\n",
    "#np.save('./2nd_layer_data/X_test_gene_var', X_test_gene_var)\n",
    "#np.save('./2nd_layer_data/y_train_gene_var', y_train_bi)\n",
    "#np.save('./2nd_layer_data/y_test_gene_var', y_test_bi)"
   ]
  },
  {
   "cell_type": "code",
   "execution_count": 4,
   "metadata": {
    "collapsed": false
   },
   "outputs": [
    {
     "name": "stdout",
     "output_type": "stream",
     "text": [
      "this is a model based on only gene&variations\n",
      "this is a model based on only gene&variations\n"
     ]
    }
   ],
   "source": [
    "pl2 = GeneSvm().fit_feature(train_full)\n",
    "feature = GeneSvm().get_feature(pl2, true_test_full)   \n",
    "#np.save('./2nd_layer_data/X_true_test', feature)"
   ]
  },
  {
   "cell_type": "code",
   "execution_count": 5,
   "metadata": {
    "collapsed": false
   },
   "outputs": [
    {
     "data": {
      "text/plain": [
       "(5668, 230)"
      ]
     },
     "execution_count": 5,
     "metadata": {},
     "output_type": "execute_result"
    }
   ],
   "source": [
    "feature.shape"
   ]
  },
  {
   "cell_type": "code",
   "execution_count": null,
   "metadata": {
    "collapsed": true
   },
   "outputs": [],
   "source": []
  }
 ],
 "metadata": {
  "anaconda-cloud": {},
  "kernelspec": {
   "display_name": "Python [conda env:cancer]",
   "language": "python",
   "name": "conda-env-cancer-py"
  },
  "language_info": {
   "codemirror_mode": {
    "name": "ipython",
    "version": 3
   },
   "file_extension": ".py",
   "mimetype": "text/x-python",
   "name": "python",
   "nbconvert_exporter": "python",
   "pygments_lexer": "ipython3",
   "version": "3.6.1"
  }
 },
 "nbformat": 4,
 "nbformat_minor": 2
}
