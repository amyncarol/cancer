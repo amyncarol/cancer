{
 "cells": [
  {
   "cell_type": "code",
   "execution_count": 1,
   "metadata": {
    "collapsed": false
   },
   "outputs": [
    {
     "name": "stderr",
     "output_type": "stream",
     "text": [
      "//anaconda/envs/cancer/lib/python3.6/site-packages/sklearn/cross_validation.py:44: DeprecationWarning: This module was deprecated in version 0.18 in favor of the model_selection module into which all the refactored classes and functions are moved. Also note that the interface of the new CV iterators are different from that of this module. This module will be removed in 0.20.\n",
      "  \"This module will be removed in 0.20.\", DeprecationWarning)\n",
      "//anaconda/envs/cancer/lib/python3.6/site-packages/sklearn/grid_search.py:43: DeprecationWarning: This module was deprecated in version 0.18 in favor of the model_selection module into which all the refactored classes and functions are moved. This module will be removed in 0.20.\n",
      "  DeprecationWarning)\n",
      "//anaconda/envs/cancer/lib/python3.6/site-packages/sklearn/lda.py:6: DeprecationWarning: lda.LDA has been moved to discriminant_analysis.LinearDiscriminantAnalysis in 0.17 and will be removed in 0.19\n",
      "  \"in 0.17 and will be removed in 0.19\", DeprecationWarning)\n",
      "//anaconda/envs/cancer/lib/python3.6/site-packages/sklearn/learning_curve.py:23: DeprecationWarning: This module was deprecated in version 0.18 in favor of the model_selection module into which all the functions are moved. This module will be removed in 0.20\n",
      "  DeprecationWarning)\n",
      "//anaconda/envs/cancer/lib/python3.6/site-packages/sklearn/qda.py:6: DeprecationWarning: qda.QDA has been moved to discriminant_analysis.QuadraticDiscriminantAnalysis in 0.17 and will be removed in 0.19.\n",
      "  \"in 0.17 and will be removed in 0.19.\", DeprecationWarning)\n"
     ]
    }
   ],
   "source": [
    "import os, math\n",
    "import numpy as np\n",
    "import pandas as pd\n",
    "import seaborn as sns\n",
    "import helpers\n",
    "import xgboost as xgb\n",
    "\n",
    "%matplotlib inline\n",
    "import time\n",
    "import matplotlib.pyplot as plt\n",
    "from sklearn.feature_extraction.text import TfidfVectorizer\n",
    "from sklearn.model_selection import train_test_split\n",
    "import pandas as pd\n",
    "\n",
    "from sklearn import svm\n",
    "from sklearn.preprocessing import label_binarize\n",
    "from sklearn.multiclass import OneVsRestClassifier\n",
    "from sklearn.pipeline import Pipeline\n",
    "from sklearn.feature_selection import SelectKBest, mutual_info_classif\n",
    "from sklearn.metrics import log_loss\n",
    "from models import *"
   ]
  },
  {
   "cell_type": "code",
   "execution_count": 2,
   "metadata": {
    "collapsed": false
   },
   "outputs": [
    {
     "name": "stderr",
     "output_type": "stream",
     "text": [
      "//anaconda/envs/cancer/lib/python3.6/site-packages/jupyter_client/jsonutil.py:67: DeprecationWarning: Interpreting naive datetime as local 2017-08-02 10:05:10.180545. Please add timezone info to timestamps.\n",
      "  new_obj[k] = extract_dates(v)\n"
     ]
    },
    {
     "name": "stdout",
     "output_type": "stream",
     "text": [
      "(2656, 5)\n",
      "(665, 5)\n"
     ]
    }
   ],
   "source": [
    "text, variants = helpers.get_training('./input/training_variants', './input/training_text')\n",
    "train_full = variants.merge(text, how='inner', on='ID')\n",
    "\n",
    "#this is 10% of the labeled data\n",
    "text, variants = helpers.get_test('./input/training_variants', './input/training_text')\n",
    "test_full = variants.merge(text, how='inner', on='ID')\n",
    "\n",
    "print(train_full.shape)\n",
    "print(test_full.shape)"
   ]
  },
  {
   "cell_type": "markdown",
   "metadata": {},
   "source": [
    "Use TF-IDF to Vectorize the texts， a feature selector, then SVM one-vs-all classification. "
   ]
  },
  {
   "cell_type": "code",
   "execution_count": 3,
   "metadata": {
    "collapsed": false
   },
   "outputs": [
    {
     "name": "stdout",
     "output_type": "stream",
     "text": [
      "this is a model based on only gene&variations\n"
     ]
    },
    {
     "name": "stderr",
     "output_type": "stream",
     "text": [
      "//anaconda/envs/cancer/lib/python3.6/site-packages/jupyter_client/jsonutil.py:67: DeprecationWarning: Interpreting naive datetime as local 2017-08-02 10:05:10.182482. Please add timezone info to timestamps.\n",
      "  new_obj[k] = extract_dates(v)\n"
     ]
    },
    {
     "name": "stdout",
     "output_type": "stream",
     "text": [
      "this is a tfidf+svm model\n"
     ]
    }
   ],
   "source": [
    "pl1 = GeneSvm().fit_feature(train_full)\n",
    "pl2 = TfidfSvm().fit_feature(train_full)"
   ]
  },
  {
   "cell_type": "code",
   "execution_count": 4,
   "metadata": {
    "collapsed": false
   },
   "outputs": [
    {
     "name": "stdout",
     "output_type": "stream",
     "text": [
      "this is a model based on only gene&variations\n",
      "this is a tfidf+svm model\n"
     ]
    }
   ],
   "source": [
    "X_train = np.concatenate((GeneSvm().get_feature(pl1, train_full), TfidfSvm().get_feature(pl2, train_full).todense()), axis=1)"
   ]
  },
  {
   "cell_type": "code",
   "execution_count": 5,
   "metadata": {
    "collapsed": false
   },
   "outputs": [
    {
     "name": "stdout",
     "output_type": "stream",
     "text": [
      "this is a model based on only gene&variations\n",
      "this is a tfidf+svm model\n"
     ]
    }
   ],
   "source": [
    "X_test = np.concatenate((GeneSvm().get_feature(pl1, test_full), TfidfSvm().get_feature(pl2, test_full).todense()), axis=1)"
   ]
  },
  {
   "cell_type": "code",
   "execution_count": 6,
   "metadata": {
    "collapsed": true
   },
   "outputs": [],
   "source": [
    "y_train = train_full['Class']-1\n",
    "y_test = test_full['Class']-1"
   ]
  },
  {
   "cell_type": "code",
   "execution_count": 7,
   "metadata": {
    "collapsed": false
   },
   "outputs": [
    {
     "name": "stdout",
     "output_type": "stream",
     "text": [
      "[0]\ttrain-mlogloss:2.12716\tvalid-mlogloss:2.14562\n",
      "Multiple eval metrics have been passed: 'valid-mlogloss' will be used for early stopping.\n",
      "\n",
      "Will train until valid-mlogloss hasn't improved in 100 rounds.\n",
      "[50]\ttrain-mlogloss:0.833213\tvalid-mlogloss:1.23274\n",
      "[100]\ttrain-mlogloss:0.495887\tvalid-mlogloss:1.0314\n",
      "[150]\ttrain-mlogloss:0.346433\tvalid-mlogloss:0.958461\n",
      "[200]\ttrain-mlogloss:0.25844\tvalid-mlogloss:0.924746\n",
      "[250]\ttrain-mlogloss:0.19896\tvalid-mlogloss:0.914477\n",
      "[300]\ttrain-mlogloss:0.154064\tvalid-mlogloss:0.909616\n",
      "[350]\ttrain-mlogloss:0.119402\tvalid-mlogloss:0.911574\n",
      "[400]\ttrain-mlogloss:0.093045\tvalid-mlogloss:0.916202\n",
      "Stopping. Best iteration:\n",
      "[301]\ttrain-mlogloss:0.153318\tvalid-mlogloss:0.909238\n",
      "\n"
     ]
    }
   ],
   "source": [
    "\n",
    "params = {\n",
    "        'eta': 0.03333,\n",
    "        'max_depth': 5,\n",
    "        'min_child_weight': 1,\n",
    "        'gamma': 0,\n",
    "        'objective': 'multi:softprob',\n",
    "        'eval_metric': 'mlogloss',\n",
    "        'num_class': 9,\n",
    "        'seed': 0,\n",
    "        'silent': True\n",
    "    }\n",
    "\n",
    "watchlist = [(xgb.DMatrix(X_train, y_train), 'train'), (xgb.DMatrix(X_test, y_test), 'valid')]\n",
    "model = xgb.train(params, xgb.DMatrix(X_train, y_train), 1000,  watchlist, verbose_eval=50, early_stopping_rounds=100)"
   ]
  },
  {
   "cell_type": "code",
   "execution_count": null,
   "metadata": {
    "collapsed": true
   },
   "outputs": [],
   "source": []
  },
  {
   "cell_type": "code",
   "execution_count": 8,
   "metadata": {
    "collapsed": false
   },
   "outputs": [
    {
     "data": {
      "text/plain": [
       "0.90923832665036497"
      ]
     },
     "execution_count": 8,
     "metadata": {},
     "output_type": "execute_result"
    }
   ],
   "source": [
    "#Evaluate\n",
    "y_train_prob = model.predict(xgb.DMatrix(X_train), ntree_limit=model.best_ntree_limit)\n",
    "y_test_prob = model.predict(xgb.DMatrix(X_test), ntree_limit=model.best_ntree_limit)\n",
    "log_loss(y_test, y_test_prob, eps=1e-15, normalize=True, labels = list(range(9)))"
   ]
  },
  {
   "cell_type": "code",
   "execution_count": 9,
   "metadata": {
    "collapsed": false
   },
   "outputs": [
    {
     "name": "stdout",
     "output_type": "stream",
     "text": [
      "this is a model based on only gene&variations\n",
      "this is a tfidf+svm model\n"
     ]
    }
   ],
   "source": [
    "true_test_full = helpers.get_full_table('./input/test_variants','./input/test_text')\n",
    "X_true_test = np.concatenate((GeneSvm().get_feature(pl1, true_test_full), TfidfSvm().get_feature(pl2, true_test_full).todense()), axis=1)\n",
    "\n",
    "true_test_prob = model.predict(xgb.DMatrix(X_true_test), ntree_limit=model.best_ntree_limit)\n",
    "\n"
   ]
  },
  {
   "cell_type": "code",
   "execution_count": 10,
   "metadata": {
    "collapsed": false
   },
   "outputs": [],
   "source": [
    "helpers.submission('./2nd_layer_data/xgboost/train_prob', y_train_prob)\n",
    "helpers.submission('./2nd_layer_data/xgboost/test_prob', y_test_prob)\n",
    "helpers.submission('./2nd_layer_data/xgboost/true_test_prob', true_test_prob)"
   ]
  },
  {
   "cell_type": "code",
   "execution_count": 11,
   "metadata": {
    "collapsed": false
   },
   "outputs": [],
   "source": [
    "#feature = GeneSvm().get_feature(pl1, true_test_full)\n",
    "#np.save('./2nd_layer_data/gene-var/X_true_test', feature)"
   ]
  },
  {
   "cell_type": "code",
   "execution_count": null,
   "metadata": {
    "collapsed": true
   },
   "outputs": [],
   "source": []
  }
 ],
 "metadata": {
  "kernelspec": {
   "display_name": "Python [conda env:cancer]",
   "language": "python",
   "name": "conda-env-cancer-py"
  },
  "language_info": {
   "codemirror_mode": {
    "name": "ipython",
    "version": 3
   },
   "file_extension": ".py",
   "mimetype": "text/x-python",
   "name": "python",
   "nbconvert_exporter": "python",
   "pygments_lexer": "ipython3",
   "version": "3.6.1"
  }
 },
 "nbformat": 4,
 "nbformat_minor": 2
}
