{
 "cells": [
  {
   "cell_type": "code",
   "execution_count": 141,
   "metadata": {
    "collapsed": false
   },
   "outputs": [],
   "source": [
    "from sklearn import *\n",
    "import sklearn\n",
    "from helpers import *\n",
    "import pandas as pd\n",
    "import numpy as np\n",
    "\n",
    "train_full = get_full_table('./input/training_variants', './input/training_text')"
   ]
  },
  {
   "cell_type": "code",
   "execution_count": 142,
   "metadata": {
    "collapsed": false
   },
   "outputs": [],
   "source": [
    "class_dict = []\n",
    "for i in range(1, 10):\n",
    "    class_dict.append(' '.join(list(train_full[train_full['Class']==i]['Text'])))"
   ]
  },
  {
   "cell_type": "code",
   "execution_count": 143,
   "metadata": {
    "collapsed": false
   },
   "outputs": [],
   "source": [
    "tfidf = feature_extraction.text.TfidfVectorizer(\n",
    "            min_df=0.0, max_df=0.8, max_features=16000, strip_accents='unicode',\n",
    "            analyzer='word', ngram_range=(1,2))"
   ]
  },
  {
   "cell_type": "code",
   "execution_count": null,
   "metadata": {
    "collapsed": false
   },
   "outputs": [
    {
     "data": {
      "text/plain": [
       "TfidfVectorizer(analyzer='word', binary=False, decode_error='strict',\n",
       "        dtype=<class 'numpy.int64'>, encoding='utf-8', input='content',\n",
       "        lowercase=True, max_df=0.8, max_features=16000, min_df=0.0,\n",
       "        ngram_range=(1, 2), norm='l2', preprocessor=None, smooth_idf=True,\n",
       "        stop_words=None, strip_accents='unicode', sublinear_tf=False,\n",
       "        token_pattern='(?u)\\\\b\\\\w\\\\w+\\\\b', tokenizer=None, use_idf=True,\n",
       "        vocabulary=None)"
      ]
     },
     "execution_count": 144,
     "metadata": {},
     "output_type": "execute_result"
    }
   ],
   "source": [
    "tfidf.fit(class_dict)"
   ]
  },
  {
   "cell_type": "code",
   "execution_count": null,
   "metadata": {
    "collapsed": false
   },
   "outputs": [],
   "source": [
    "X = tfidf.transform(class_dict)"
   ]
  },
  {
   "cell_type": "code",
   "execution_count": null,
   "metadata": {
    "collapsed": false
   },
   "outputs": [],
   "source": [
    "def top_tfidf_feats(row, features):\n",
    "    top_ids = np.argsort(np.squeeze(row))[::-1][:10]\n",
    "    top_features = [(features[i], row[i]) for i in top_ids]\n",
    "    df = pd.DataFrame(top_features)\n",
    "    df.columns = ['feature', 'tfidf']\n",
    "    return df\n",
    "                         \n",
    "def top_feats_by_class(X):\n",
    "    dfs = []\n",
    "    features = tfidf.get_feature_names()\n",
    "    for i in range(1,10):\n",
    "        row = np.squeeze(X[i-1, :].toarray())\n",
    "        df = top_tfidf_feats(row, features)\n",
    "        df.label = i\n",
    "        dfs.append(df)\n",
    "    return dfs\n",
    "\n",
    "def plot_tfidf_classfeats_h(dfs):\n",
    "    import matplotlib.pyplot as plt\n",
    "    fig = plt.figure(figsize=(12, 12), facecolor=\"w\")\n",
    "    x = np.arange(len(dfs[0]))\n",
    "    for i, df in enumerate(dfs):\n",
    "        ax = fig.add_subplot(3, 3, i+1)\n",
    "        #ax.spines[\"top\"].set_visible(False)\n",
    "        #ax.spines[\"right\"].set_visible(False)\n",
    "        #ax.set_frame_on(False)\n",
    "        #ax.get_xaxis().tick_bottom()\n",
    "        #ax.get_yaxis().tick_left()\n",
    "        ax.set_xlabel(\"Tf-Idf Score\", labelpad=16, fontsize=16)\n",
    "        ax.set_ylabel(\"Feature\", labelpad=16, fontsize=16)\n",
    "        ax.set_title(\"Class = \" + str(df.label), fontsize=18)\n",
    "        #ax.ticklabel_format(axis='x', style='sci', scilimits=(-2,2))\n",
    "        ax.barh(x, df.tfidf, align='center')\n",
    "        ax.set_yticks(x)\n",
    "        ax.set_ylim([-1, x[-1]+1])\n",
    "        yticks = ax.set_yticklabels(df.feature)\n",
    "        plt.subplots_adjust(bottom=0.09, right=0.97, left=0.15, top=0.95, wspace=0.52)\n",
    "    plt.tight_layout()\n",
    "    #plt.savefig('./input/feature_by_class.pdf', dpi=300)\n",
    "    plt.show()"
   ]
  },
  {
   "cell_type": "code",
   "execution_count": null,
   "metadata": {
    "collapsed": false
   },
   "outputs": [],
   "source": [
    "dfs = top_feats_by_class(X)\n",
    "plot_tfidf_classfeats_h(dfs)"
   ]
  },
  {
   "cell_type": "code",
   "execution_count": null,
   "metadata": {
    "collapsed": false
   },
   "outputs": [],
   "source": [
    "from math import *\n",
    "m = np.zeros((9,9))\n",
    "for i in range(9):\n",
    "    for j in range(9):\n",
    "        m[i][j] = np.linalg.norm(X[i,:].toarray()-X[j,:].toarray())\n",
    "print(m[0][3])\n",
    "print(m[1][6])\n",
    "\n",
    "print(m[2][7])"
   ]
  },
  {
   "cell_type": "code",
   "execution_count": null,
   "metadata": {
    "collapsed": false
   },
   "outputs": [],
   "source": [
    "import matplotlib.pyplot as plt\n",
    "plt.imshow(m, cmap=plt.cm.PiYG)\n",
    "classes = range(1, 10)\n",
    "tick_marks = np.arange(len(classes))\n",
    "plt.xticks(tick_marks, classes)\n",
    "plt.yticks(tick_marks, classes)\n",
    "#plt.savefig('./input/tfidf_distance.pdf', dpi=300)\n",
    "plt.show()"
   ]
  },
  {
   "cell_type": "code",
   "execution_count": null,
   "metadata": {
    "collapsed": false
   },
   "outputs": [],
   "source": [
    "tfidf.get_params()"
   ]
  },
  {
   "cell_type": "code",
   "execution_count": null,
   "metadata": {
    "collapsed": true
   },
   "outputs": [],
   "source": []
  }
 ],
 "metadata": {
  "anaconda-cloud": {},
  "kernelspec": {
   "display_name": "Python [conda env:cancer]",
   "language": "python",
   "name": "conda-env-cancer-py"
  },
  "language_info": {
   "codemirror_mode": {
    "name": "ipython",
    "version": 3
   },
   "file_extension": ".py",
   "mimetype": "text/x-python",
   "name": "python",
   "nbconvert_exporter": "python",
   "pygments_lexer": "ipython3",
   "version": "3.6.1"
  }
 },
 "nbformat": 4,
 "nbformat_minor": 1
}
